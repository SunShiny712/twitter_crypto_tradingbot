{
 "cells": [
  {
   "cell_type": "code",
   "execution_count": null,
   "metadata": {},
   "outputs": [],
   "source": [
    "# Trial for kraken trading"
   ]
  },
  {
   "cell_type": "code",
   "execution_count": 1,
   "metadata": {},
   "outputs": [],
   "source": [
    "import ccxt\n",
    "import json"
   ]
  },
  {
   "cell_type": "code",
   "execution_count": 2,
   "metadata": {},
   "outputs": [],
   "source": [
    "f = open('../keys.json','r')\n",
    "api_keys = json.loads(f.read())\n",
    "f.close()\n",
    "kraken_keys = {'api_key':api_keys['krakenapi_keys']['api_key'],'secret_key':api_keys['krakenapi_keys']['secret_key']}"
   ]
  },
  {
   "cell_type": "code",
   "execution_count": 3,
   "metadata": {},
   "outputs": [],
   "source": [
    "k = ccxt.kraken({'apiKey':kraken_keys['api_key'], 'secret':kraken_keys['secret_key']})"
   ]
  },
  {
   "cell_type": "code",
   "execution_count": 5,
   "metadata": {},
   "outputs": [],
   "source": [
    "pair = 'DOGE/BTC'"
   ]
  },
  {
   "cell_type": "code",
   "execution_count": null,
   "metadata": {},
   "outputs": [],
   "source": [
    "# trade = k.create_order(pair,'market','buy',50)"
   ]
  },
  {
   "cell_type": "code",
   "execution_count": null,
   "metadata": {},
   "outputs": [],
   "source": [
    "# sell = k.create_order(pair,'market','sell',50)\n",
    "sell"
   ]
  },
  {
   "cell_type": "code",
   "execution_count": 10,
   "metadata": {},
   "outputs": [],
   "source": [
    "funcs =  k.has"
   ]
  },
  {
   "cell_type": "code",
   "execution_count": 11,
   "metadata": {
    "scrolled": false
   },
   "outputs": [],
   "source": [
    "trades = k.fetchMyTrades(pair)"
   ]
  },
  {
   "cell_type": "code",
   "execution_count": 25,
   "metadata": {},
   "outputs": [],
   "source": [
    "sell = trades[-1]\n",
    "buy = trades[-2]"
   ]
  },
  {
   "cell_type": "code",
   "execution_count": 26,
   "metadata": {},
   "outputs": [
    {
     "data": {
      "text/plain": [
       "{'id': 'TN3EDM-STBLC-QUFMY7',\n",
       " 'order': 'OLWYE6-TUJP5-T472DM',\n",
       " 'info': {'ordertxid': 'OLWYE6-TUJP5-T472DM',\n",
       "  'postxid': 'TKH2SE-M7IF5-CFI7LT',\n",
       "  'pair': 'XXDGXXBT',\n",
       "  'time': 1612830305.4219,\n",
       "  'type': 'sell',\n",
       "  'ordertype': 'market',\n",
       "  'price': '0.000001720',\n",
       "  'cost': '0.000172000',\n",
       "  'fee': '0.000000447',\n",
       "  'vol': '100.00000000',\n",
       "  'margin': '0.000000000',\n",
       "  'misc': '',\n",
       "  'id': 'TN3EDM-STBLC-QUFMY7'},\n",
       " 'timestamp': 1612830305421,\n",
       " 'datetime': '2021-02-09T00:25:05.421Z',\n",
       " 'symbol': 'DOGE/BTC',\n",
       " 'type': 'market',\n",
       " 'side': 'sell',\n",
       " 'takerOrMaker': None,\n",
       " 'price': 1.72e-06,\n",
       " 'amount': 100.0,\n",
       " 'cost': 0.000172,\n",
       " 'fee': {'cost': 4.47e-07, 'currency': 'BTC'}}"
      ]
     },
     "execution_count": 26,
     "metadata": {},
     "output_type": "execute_result"
    }
   ],
   "source": [
    "sell"
   ]
  },
  {
   "cell_type": "code",
   "execution_count": 27,
   "metadata": {},
   "outputs": [
    {
     "data": {
      "text/plain": [
       "1.72e-06"
      ]
     },
     "execution_count": 27,
     "metadata": {},
     "output_type": "execute_result"
    }
   ],
   "source": [
    "sell['price']"
   ]
  },
  {
   "cell_type": "code",
   "execution_count": 30,
   "metadata": {},
   "outputs": [
    {
     "data": {
      "text/plain": [
       "46605.149999999994"
      ]
     },
     "execution_count": 30,
     "metadata": {},
     "output_type": "execute_result"
    }
   ],
   "source": [
    "usdpair = k.fetchTicker('BTC/USD')\n",
    "(usdpair['bid']+usdpair['ask'])/2"
   ]
  },
  {
   "cell_type": "code",
   "execution_count": 41,
   "metadata": {},
   "outputs": [],
   "source": [
    "btc_price = (usdpair['bid']+usdpair['ask'])/2"
   ]
  },
  {
   "cell_type": "code",
   "execution_count": 42,
   "metadata": {},
   "outputs": [],
   "source": [
    "diff = sell['cost'] - buy['cost'] \n",
    "fee =  buy['fee']['cost'] + sell['fee']['cost']"
   ]
  },
  {
   "cell_type": "code",
   "execution_count": null,
   "metadata": {},
   "outputs": [],
   "source": []
  },
  {
   "cell_type": "code",
   "execution_count": 49,
   "metadata": {},
   "outputs": [
    {
     "data": {
      "text/plain": [
       "0.042168339719999996"
      ]
     },
     "execution_count": 49,
     "metadata": {},
     "output_type": "execute_result"
    }
   ],
   "source": [
    "fees = buy['cost'] * 2 * 0.0026\n",
    "fees * btc_price"
   ]
  },
  {
   "cell_type": "code",
   "execution_count": 50,
   "metadata": {},
   "outputs": [
    {
     "data": {
      "text/plain": [
       "0.04189802985"
      ]
     },
     "execution_count": 50,
     "metadata": {},
     "output_type": "execute_result"
    }
   ],
   "source": [
    "fee * btc_price"
   ]
  },
  {
   "cell_type": "code",
   "execution_count": 36,
   "metadata": {},
   "outputs": [
    {
     "name": "stdout",
     "output_type": "stream",
     "text": [
      "-0.13510832984999974\n"
     ]
    }
   ],
   "source": [
    "print((sell['cost'] - buy['cost'] - buy['fee']['cost'] - sell['fee']['cost']) * (usdpair['bid']+usdpair['ask'])/2)\n"
   ]
  },
  {
   "cell_type": "code",
   "execution_count": 28,
   "metadata": {},
   "outputs": [
    {
     "data": {
      "text/plain": [
       "{'id': 'T7EK4C-HRBPR-77QKPG',\n",
       " 'order': 'OPUAHH-SRHHY-YVM4OR',\n",
       " 'info': {'ordertxid': 'OPUAHH-SRHHY-YVM4OR',\n",
       "  'postxid': 'TKH2SE-M7IF5-CFI7LT',\n",
       "  'pair': 'XXDGXXBT',\n",
       "  'time': 1612830184.7549,\n",
       "  'type': 'buy',\n",
       "  'ordertype': 'market',\n",
       "  'price': '0.000001740',\n",
       "  'cost': '0.000174000',\n",
       "  'fee': '0.000000452',\n",
       "  'vol': '100.00000000',\n",
       "  'margin': '0.000000000',\n",
       "  'misc': '',\n",
       "  'id': 'T7EK4C-HRBPR-77QKPG'},\n",
       " 'timestamp': 1612830184754,\n",
       " 'datetime': '2021-02-09T00:23:04.754Z',\n",
       " 'symbol': 'DOGE/BTC',\n",
       " 'type': 'market',\n",
       " 'side': 'buy',\n",
       " 'takerOrMaker': None,\n",
       " 'price': 1.74e-06,\n",
       " 'amount': 100.0,\n",
       " 'cost': 0.000174,\n",
       " 'fee': {'cost': 4.52e-07, 'currency': 'BTC'}}"
      ]
     },
     "execution_count": 28,
     "metadata": {},
     "output_type": "execute_result"
    }
   ],
   "source": [
    "buy"
   ]
  },
  {
   "cell_type": "code",
   "execution_count": 13,
   "metadata": {},
   "outputs": [],
   "source": [
    "mybal = k.fetchBalance()"
   ]
  },
  {
   "cell_type": "code",
   "execution_count": null,
   "metadata": {},
   "outputs": [],
   "source": [
    "k.fetchTicker('DOGE/BTC')"
   ]
  },
  {
   "cell_type": "code",
   "execution_count": null,
   "metadata": {},
   "outputs": [],
   "source": [
    "k.fetchTicker('DOGE/USD')"
   ]
  },
  {
   "cell_type": "code",
   "execution_count": null,
   "metadata": {
    "scrolled": true
   },
   "outputs": [],
   "source": [
    "k.fetchMarkets()"
   ]
  },
  {
   "cell_type": "code",
   "execution_count": null,
   "metadata": {},
   "outputs": [],
   "source": [
    "k.fetchCurrencies()"
   ]
  }
 ],
 "metadata": {
  "kernelspec": {
   "display_name": "venv",
   "language": "python",
   "name": "venv"
  },
  "language_info": {
   "codemirror_mode": {
    "name": "ipython",
    "version": 3
   },
   "file_extension": ".py",
   "mimetype": "text/x-python",
   "name": "python",
   "nbconvert_exporter": "python",
   "pygments_lexer": "ipython3",
   "version": "3.8.5"
  }
 },
 "nbformat": 4,
 "nbformat_minor": 4
}
