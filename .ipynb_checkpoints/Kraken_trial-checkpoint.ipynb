{
 "cells": [
  {
   "cell_type": "code",
   "execution_count": 3,
   "metadata": {},
   "outputs": [],
   "source": [
    "# Trial for kraken trading"
   ]
  },
  {
   "cell_type": "code",
   "execution_count": 2,
   "metadata": {},
   "outputs": [],
   "source": [
    "import ccxt\n",
    "import json"
   ]
  },
  {
   "cell_type": "code",
   "execution_count": 4,
   "metadata": {},
   "outputs": [],
   "source": [
    "f = open('../keys.json','r')\n",
    "api_keys = json.loads(f.read())\n",
    "f.close()\n",
    "kraken_keys = {'api_key':api_keys['krakenapi_keys']['api_key'],'secret_key':api_keys['krakenapi_keys']['secret_key']}"
   ]
  },
  {
   "cell_type": "code",
   "execution_count": 28,
   "metadata": {},
   "outputs": [],
   "source": [
    "k = ccxt.kraken({'apiKey':kraken_keys['api_key'], 'secret':kraken_keys['secret_key']})\n",
    "pair = 'DOGE/BTC'"
   ]
  },
  {
   "cell_type": "code",
   "execution_count": 30,
   "metadata": {
    "collapsed": true
   },
   "outputs": [
    {
     "data": {
      "text/plain": [
       "{'id': 'O7KJP4-C6HAY-YHR6JH',\n",
       " 'clientOrderId': None,\n",
       " 'info': {'descr': {'order': 'buy 50.00000000 XDGXBT @ market'},\n",
       "  'txid': ['O7KJP4-C6HAY-YHR6JH']},\n",
       " 'timestamp': None,\n",
       " 'datetime': None,\n",
       " 'lastTradeTimestamp': None,\n",
       " 'status': None,\n",
       " 'symbol': 'DOGE/BTC',\n",
       " 'type': 'market',\n",
       " 'timeInForce': None,\n",
       " 'postOnly': None,\n",
       " 'side': 'buy',\n",
       " 'price': None,\n",
       " 'stopPrice': None,\n",
       " 'cost': None,\n",
       " 'amount': 50.0,\n",
       " 'filled': None,\n",
       " 'average': None,\n",
       " 'remaining': None,\n",
       " 'fee': None,\n",
       " 'trades': None}"
      ]
     },
     "execution_count": 30,
     "metadata": {},
     "output_type": "execute_result"
    }
   ],
   "source": [
    "trade = k.create_order(pair,'market','buy',50)"
   ]
  },
  {
   "cell_type": "code",
   "execution_count": 32,
   "metadata": {},
   "outputs": [
    {
     "data": {
      "text/plain": [
       "{'id': 'O7KJP4-C6HAY-YHR6JH',\n",
       " 'clientOrderId': None,\n",
       " 'info': {'descr': {'order': 'buy 50.00000000 XDGXBT @ market'},\n",
       "  'txid': ['O7KJP4-C6HAY-YHR6JH']},\n",
       " 'timestamp': None,\n",
       " 'datetime': None,\n",
       " 'lastTradeTimestamp': None,\n",
       " 'status': None,\n",
       " 'symbol': 'DOGE/BTC',\n",
       " 'type': 'market',\n",
       " 'timeInForce': None,\n",
       " 'postOnly': None,\n",
       " 'side': 'buy',\n",
       " 'price': None,\n",
       " 'stopPrice': None,\n",
       " 'cost': None,\n",
       " 'amount': 50.0,\n",
       " 'filled': None,\n",
       " 'average': None,\n",
       " 'remaining': None,\n",
       " 'fee': None,\n",
       " 'trades': None}"
      ]
     },
     "execution_count": 32,
     "metadata": {},
     "output_type": "execute_result"
    }
   ],
   "source": [
    "trade"
   ]
  },
  {
   "cell_type": "code",
   "execution_count": 33,
   "metadata": {},
   "outputs": [
    {
     "data": {
      "text/plain": [
       "{'id': 'OAMQE6-5KMAF-HS2HZ6',\n",
       " 'clientOrderId': None,\n",
       " 'info': {'descr': {'order': 'sell 50.00000000 XDGXBT @ market'},\n",
       "  'txid': ['OAMQE6-5KMAF-HS2HZ6']},\n",
       " 'timestamp': None,\n",
       " 'datetime': None,\n",
       " 'lastTradeTimestamp': None,\n",
       " 'status': None,\n",
       " 'symbol': 'DOGE/BTC',\n",
       " 'type': 'market',\n",
       " 'timeInForce': None,\n",
       " 'postOnly': None,\n",
       " 'side': 'sell',\n",
       " 'price': None,\n",
       " 'stopPrice': None,\n",
       " 'cost': None,\n",
       " 'amount': 50.0,\n",
       " 'filled': None,\n",
       " 'average': None,\n",
       " 'remaining': None,\n",
       " 'fee': None,\n",
       " 'trades': None}"
      ]
     },
     "execution_count": 33,
     "metadata": {},
     "output_type": "execute_result"
    }
   ],
   "source": [
    "sell = k.create_order(pair,'market','sell',50)\n",
    "sell"
   ]
  },
  {
   "cell_type": "code",
   "execution_count": null,
   "metadata": {},
   "outputs": [],
   "source": []
  }
 ],
 "metadata": {
  "kernelspec": {
   "display_name": "venv",
   "language": "python",
   "name": "venv"
  },
  "language_info": {
   "codemirror_mode": {
    "name": "ipython",
    "version": 3
   },
   "file_extension": ".py",
   "mimetype": "text/x-python",
   "name": "python",
   "nbconvert_exporter": "python",
   "pygments_lexer": "ipython3",
   "version": "3.8.5"
  }
 },
 "nbformat": 4,
 "nbformat_minor": 4
}
