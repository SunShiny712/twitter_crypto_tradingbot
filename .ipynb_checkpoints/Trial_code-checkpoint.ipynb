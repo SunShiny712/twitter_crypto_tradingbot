{
 "cells": [
  {
   "cell_type": "markdown",
   "metadata": {},
   "source": [
    "# Trial for tweeting and Apis"
   ]
  },
  {
   "cell_type": "code",
   "execution_count": 74,
   "metadata": {},
   "outputs": [],
   "source": [
    "import ccxt\n",
    "import json\n",
    "import tweepy"
   ]
  },
  {
   "cell_type": "code",
   "execution_count": 90,
   "metadata": {},
   "outputs": [],
   "source": [
    "f = open('../keys.json','r')\n",
    "api_keys = json.loads(f.read())\n",
    "f.close()"
   ]
  },
  {
   "cell_type": "markdown",
   "metadata": {},
   "source": [
    "## Twitter Trial"
   ]
  },
  {
   "cell_type": "code",
   "execution_count": 75,
   "metadata": {},
   "outputs": [],
   "source": [
    "# Read keys\n",
    "f = open('../keys.json','r')\n",
    "api_keys = json.loads(f.read())\n",
    "f.close()\n",
    "twitter_keys = {'consumer_key':api_keys['twitter_keys']['consumer_key'],'consumer_secret':api_keys['twitter_keys']['consumer_secret'],'access_token_key':api_keys['twitter_keys']['access_token_key'],'access_token_secret': api_keys['twitter_keys']['access_token_secret']}\n"
   ]
  },
  {
   "cell_type": "code",
   "execution_count": 84,
   "metadata": {},
   "outputs": [],
   "source": [
    "# Use twitter API\n",
    "auth = tweepy.OAuthHandler(twitter_keys['consumer_key'], twitter_keys['consumer_secret'])\n",
    "auth.set_access_token(twitter_keys['access_token_key'], twitter_keys['access_token_secret'])\n",
    "api = tweepy.API(auth)\n"
   ]
  },
  {
   "cell_type": "code",
   "execution_count": 85,
   "metadata": {},
   "outputs": [],
   "source": [
    "user = ['ArbitrageDaddy', 1351770767130673152]"
   ]
  },
  {
   "cell_type": "code",
   "execution_count": 86,
   "metadata": {},
   "outputs": [],
   "source": [
    "tweets = api.user_timeline(user_id=user[1], count=1,include_rts = True, exclude_replies = True, tweet_mode = 'extended', wait_on_rate_limit=True, wait_on_rate_limit_notify=True)"
   ]
  },
  {
   "cell_type": "code",
   "execution_count": 89,
   "metadata": {},
   "outputs": [
    {
     "name": "stdout",
     "output_type": "stream",
     "text": [
      "the doge says pls fix\n"
     ]
    }
   ],
   "source": [
    "for tweet in tweets:\n",
    "    print (tweet.full_text)\n"
   ]
  },
  {
   "cell_type": "markdown",
   "metadata": {},
   "source": [
    "## Kraken"
   ]
  },
  {
   "cell_type": "code",
   "execution_count": 54,
   "metadata": {},
   "outputs": [],
   "source": [
    "kraken_keys = {'api_key':api_keys['krakenapi_keys']['api_key'],'secret_key':api_keys['krakenapi_keys']['secret_key']}"
   ]
  },
  {
   "cell_type": "code",
   "execution_count": 55,
   "metadata": {},
   "outputs": [],
   "source": [
    "k = ccxt.kraken({'apiKey':kraken_keys['api_key'], 'secret':kraken_keys['secret_key']})"
   ]
  },
  {
   "cell_type": "code",
   "execution_count": 56,
   "metadata": {},
   "outputs": [],
   "source": [
    "pair = 'DOGE/BTC'"
   ]
  },
  {
   "cell_type": "code",
   "execution_count": 57,
   "metadata": {},
   "outputs": [],
   "source": [
    "# trade = k.create_order(pair,'market','buy',50)"
   ]
  },
  {
   "cell_type": "code",
   "execution_count": 59,
   "metadata": {},
   "outputs": [],
   "source": [
    "# sell = k.create_order(pair,'market','sell',50)\n",
    "# sell"
   ]
  },
  {
   "cell_type": "code",
   "execution_count": 60,
   "metadata": {},
   "outputs": [],
   "source": [
    "funcs =  k.has"
   ]
  },
  {
   "cell_type": "code",
   "execution_count": 61,
   "metadata": {
    "scrolled": false
   },
   "outputs": [],
   "source": [
    "trades = k.fetchMyTrades(pair)"
   ]
  },
  {
   "cell_type": "code",
   "execution_count": 62,
   "metadata": {},
   "outputs": [],
   "source": [
    "sell = trades[-1]\n",
    "buy = trades[-2]"
   ]
  },
  {
   "cell_type": "code",
   "execution_count": 71,
   "metadata": {},
   "outputs": [
    {
     "data": {
      "text/plain": [
       "1.75e-06"
      ]
     },
     "execution_count": 71,
     "metadata": {},
     "output_type": "execute_result"
    }
   ],
   "source": [
    "buy['price']"
   ]
  },
  {
   "cell_type": "code",
   "execution_count": 64,
   "metadata": {},
   "outputs": [
    {
     "data": {
      "text/plain": [
       "1.76e-06"
      ]
     },
     "execution_count": 64,
     "metadata": {},
     "output_type": "execute_result"
    }
   ],
   "source": [
    "sell['price']"
   ]
  },
  {
   "cell_type": "code",
   "execution_count": 65,
   "metadata": {},
   "outputs": [
    {
     "data": {
      "text/plain": [
       "45678.95"
      ]
     },
     "execution_count": 65,
     "metadata": {},
     "output_type": "execute_result"
    }
   ],
   "source": [
    "usdpair = k.fetchTicker('BTC/USD')\n",
    "(usdpair['bid']+usdpair['ask'])/2"
   ]
  },
  {
   "cell_type": "code",
   "execution_count": 66,
   "metadata": {},
   "outputs": [],
   "source": [
    "btc_price = (usdpair['bid']+usdpair['ask'])/2"
   ]
  },
  {
   "cell_type": "code",
   "execution_count": 67,
   "metadata": {},
   "outputs": [],
   "source": [
    "diff = sell['cost'] - buy['cost'] \n",
    "fee =  buy['fee']['cost'] + sell['fee']['cost']"
   ]
  },
  {
   "cell_type": "code",
   "execution_count": 68,
   "metadata": {},
   "outputs": [
    {
     "data": {
      "text/plain": [
       "0.083135689"
      ]
     },
     "execution_count": 68,
     "metadata": {},
     "output_type": "execute_result"
    }
   ],
   "source": [
    "fees = buy['cost'] * 2 * 0.0026\n",
    "fees * btc_price"
   ]
  },
  {
   "cell_type": "code",
   "execution_count": 69,
   "metadata": {},
   "outputs": [
    {
     "data": {
      "text/plain": [
       "0.08336408374999998"
      ]
     },
     "execution_count": 69,
     "metadata": {},
     "output_type": "execute_result"
    }
   ],
   "source": [
    "fee * btc_price"
   ]
  },
  {
   "cell_type": "code",
   "execution_count": 70,
   "metadata": {},
   "outputs": [
    {
     "name": "stdout",
     "output_type": "stream",
     "text": [
      "0.007993816249999744\n"
     ]
    }
   ],
   "source": [
    "print((sell['cost'] - buy['cost'] - buy['fee']['cost'] - sell['fee']['cost']) * (usdpair['bid']+usdpair['ask'])/2)\n"
   ]
  },
  {
   "cell_type": "code",
   "execution_count": 13,
   "metadata": {},
   "outputs": [],
   "source": [
    "mybal = k.fetchBalance()"
   ]
  },
  {
   "cell_type": "code",
   "execution_count": null,
   "metadata": {},
   "outputs": [],
   "source": [
    "k.fetchTicker('DOGE/BTC')"
   ]
  },
  {
   "cell_type": "code",
   "execution_count": null,
   "metadata": {},
   "outputs": [],
   "source": [
    "k.fetchTicker('DOGE/USD')"
   ]
  },
  {
   "cell_type": "code",
   "execution_count": null,
   "metadata": {
    "scrolled": true
   },
   "outputs": [],
   "source": [
    "k.fetchMarkets()"
   ]
  },
  {
   "cell_type": "code",
   "execution_count": 53,
   "metadata": {},
   "outputs": [],
   "source": [
    "k.fetchCurrencies()"
   ]
  },
  {
   "cell_type": "markdown",
   "metadata": {},
   "source": [
    "## Binance"
   ]
  },
  {
   "cell_type": "code",
   "execution_count": 122,
   "metadata": {},
   "outputs": [],
   "source": [
    "bin_keys = {'api_key':api_keys['binance_keys']['api_key'],'secret_key':api_keys['binance_keys']['secret_key']}"
   ]
  },
  {
   "cell_type": "code",
   "execution_count": 123,
   "metadata": {},
   "outputs": [],
   "source": [
    "b = ccxt.binance({'apiKey':bin_keys['api_key'], 'secret':bin_keys['secret_key']})"
   ]
  },
  {
   "cell_type": "code",
   "execution_count": 178,
   "metadata": {},
   "outputs": [],
   "source": [
    "# b.has"
   ]
  },
  {
   "cell_type": "code",
   "execution_count": 176,
   "metadata": {},
   "outputs": [],
   "source": [
    "# b.fetchBalance()"
   ]
  },
  {
   "cell_type": "code",
   "execution_count": 177,
   "metadata": {},
   "outputs": [],
   "source": [
    "# b.getSymbolInfo(pair)"
   ]
  },
  {
   "cell_type": "code",
   "execution_count": 175,
   "metadata": {},
   "outputs": [],
   "source": [
    "# b.fetchTradingFee(pair)"
   ]
  },
  {
   "cell_type": "code",
   "execution_count": 174,
   "metadata": {},
   "outputs": [],
   "source": [
    "# b.fetchTicker(pair)"
   ]
  },
  {
   "cell_type": "code",
   "execution_count": 111,
   "metadata": {},
   "outputs": [],
   "source": [
    "tousd = 'DOGE/USDT'"
   ]
  },
  {
   "cell_type": "code",
   "execution_count": 155,
   "metadata": {},
   "outputs": [],
   "source": [
    "pair = 'DOGE/BTC'\n",
    "amount = 100"
   ]
  },
  {
   "cell_type": "code",
   "execution_count": 156,
   "metadata": {},
   "outputs": [],
   "source": [
    "buy = b.create_order(pair,'market','buy',amount)"
   ]
  },
  {
   "cell_type": "code",
   "execution_count": 159,
   "metadata": {},
   "outputs": [],
   "source": [
    "sell = b.create_order(pair,'market','sell',amount - buy['fee']['cost'])"
   ]
  },
  {
   "cell_type": "code",
   "execution_count": 171,
   "metadata": {},
   "outputs": [],
   "source": [
    "# buy"
   ]
  },
  {
   "cell_type": "code",
   "execution_count": 172,
   "metadata": {
    "scrolled": false
   },
   "outputs": [],
   "source": [
    "# for trade in b.fetchMyTrades(pair):\n",
    "#     if trade['info']['orderId'] == buy['info']['orderId']:\n",
    "#         print('bereak')\n",
    "#         break"
   ]
  },
  {
   "cell_type": "code",
   "execution_count": 173,
   "metadata": {},
   "outputs": [],
   "source": [
    "# trade"
   ]
  },
  {
   "cell_type": "code",
   "execution_count": 184,
   "metadata": {},
   "outputs": [
    {
     "data": {
      "text/plain": [
       "[{'info': {'symbol': 'DOGEBTC',\n",
       "   'id': 8199671,\n",
       "   'orderId': 48343133,\n",
       "   'orderListId': -1,\n",
       "   'price': '0.00000154',\n",
       "   'qty': '100.00000000',\n",
       "   'quoteQty': '0.00015400',\n",
       "   'commission': '0.10000000',\n",
       "   'commissionAsset': 'DOGE',\n",
       "   'time': 1612900542783,\n",
       "   'isBuyer': True,\n",
       "   'isMaker': False,\n",
       "   'isBestMatch': True},\n",
       "  'timestamp': 1612900542783,\n",
       "  'datetime': '2021-02-09T19:55:42.783Z',\n",
       "  'symbol': 'DOGE/BTC',\n",
       "  'id': '8199671',\n",
       "  'order': '48343133',\n",
       "  'type': None,\n",
       "  'side': 'buy',\n",
       "  'takerOrMaker': 'taker',\n",
       "  'price': 1.54e-06,\n",
       "  'amount': 100.0,\n",
       "  'cost': 0.000154,\n",
       "  'fee': {'cost': 0.1, 'currency': 'DOGE'}},\n",
       " {'info': {'symbol': 'DOGEBTC',\n",
       "   'id': 8199777,\n",
       "   'orderId': 48343450,\n",
       "   'orderListId': -1,\n",
       "   'price': '0.00000153',\n",
       "   'qty': '99.00000000',\n",
       "   'quoteQty': '0.00015147',\n",
       "   'commission': '0.00000015',\n",
       "   'commissionAsset': 'BTC',\n",
       "   'time': 1612900563868,\n",
       "   'isBuyer': False,\n",
       "   'isMaker': False,\n",
       "   'isBestMatch': True},\n",
       "  'timestamp': 1612900563868,\n",
       "  'datetime': '2021-02-09T19:56:03.868Z',\n",
       "  'symbol': 'DOGE/BTC',\n",
       "  'id': '8199777',\n",
       "  'order': '48343450',\n",
       "  'type': None,\n",
       "  'side': 'sell',\n",
       "  'takerOrMaker': 'taker',\n",
       "  'price': 1.53e-06,\n",
       "  'amount': 99.0,\n",
       "  'cost': 0.00015146999999999998,\n",
       "  'fee': {'cost': 1.5e-07, 'currency': 'BTC'}},\n",
       " {'info': {'symbol': 'DOGEBTC',\n",
       "   'id': 8202009,\n",
       "   'orderId': 48350385,\n",
       "   'orderListId': -1,\n",
       "   'price': '0.00000152',\n",
       "   'qty': '100.00000000',\n",
       "   'quoteQty': '0.00015200',\n",
       "   'commission': '0.10000000',\n",
       "   'commissionAsset': 'DOGE',\n",
       "   'time': 1612901078457,\n",
       "   'isBuyer': True,\n",
       "   'isMaker': False,\n",
       "   'isBestMatch': True},\n",
       "  'timestamp': 1612901078457,\n",
       "  'datetime': '2021-02-09T20:04:38.457Z',\n",
       "  'symbol': 'DOGE/BTC',\n",
       "  'id': '8202009',\n",
       "  'order': '48350385',\n",
       "  'type': None,\n",
       "  'side': 'buy',\n",
       "  'takerOrMaker': 'taker',\n",
       "  'price': 1.52e-06,\n",
       "  'amount': 100.0,\n",
       "  'cost': 0.000152,\n",
       "  'fee': {'cost': 0.1, 'currency': 'DOGE'}},\n",
       " {'info': {'symbol': 'DOGEBTC',\n",
       "   'id': 8202068,\n",
       "   'orderId': 48350536,\n",
       "   'orderListId': -1,\n",
       "   'price': '0.00000151',\n",
       "   'qty': '99.00000000',\n",
       "   'quoteQty': '0.00014949',\n",
       "   'commission': '0.00000015',\n",
       "   'commissionAsset': 'BTC',\n",
       "   'time': 1612901089686,\n",
       "   'isBuyer': False,\n",
       "   'isMaker': False,\n",
       "   'isBestMatch': True},\n",
       "  'timestamp': 1612901089686,\n",
       "  'datetime': '2021-02-09T20:04:49.686Z',\n",
       "  'symbol': 'DOGE/BTC',\n",
       "  'id': '8202068',\n",
       "  'order': '48350536',\n",
       "  'type': None,\n",
       "  'side': 'sell',\n",
       "  'takerOrMaker': 'taker',\n",
       "  'price': 1.51e-06,\n",
       "  'amount': 99.0,\n",
       "  'cost': 0.00014949,\n",
       "  'fee': {'cost': 1.5e-07, 'currency': 'BTC'}},\n",
       " {'info': {'symbol': 'DOGEBTC',\n",
       "   'id': 8202711,\n",
       "   'orderId': 48351868,\n",
       "   'orderListId': -1,\n",
       "   'price': '0.00000152',\n",
       "   'qty': '100.00000000',\n",
       "   'quoteQty': '0.00015200',\n",
       "   'commission': '0.10000000',\n",
       "   'commissionAsset': 'DOGE',\n",
       "   'time': 1612901156855,\n",
       "   'isBuyer': True,\n",
       "   'isMaker': False,\n",
       "   'isBestMatch': True},\n",
       "  'timestamp': 1612901156855,\n",
       "  'datetime': '2021-02-09T20:05:56.855Z',\n",
       "  'symbol': 'DOGE/BTC',\n",
       "  'id': '8202711',\n",
       "  'order': '48351868',\n",
       "  'type': None,\n",
       "  'side': 'buy',\n",
       "  'takerOrMaker': 'taker',\n",
       "  'price': 1.52e-06,\n",
       "  'amount': 100.0,\n",
       "  'cost': 0.000152,\n",
       "  'fee': {'cost': 0.1, 'currency': 'DOGE'}},\n",
       " {'info': {'symbol': 'DOGEBTC',\n",
       "   'id': 8202732,\n",
       "   'orderId': 48352064,\n",
       "   'orderListId': -1,\n",
       "   'price': '0.00000151',\n",
       "   'qty': '99.00000000',\n",
       "   'quoteQty': '0.00014949',\n",
       "   'commission': '0.00000015',\n",
       "   'commissionAsset': 'BTC',\n",
       "   'time': 1612901168126,\n",
       "   'isBuyer': False,\n",
       "   'isMaker': False,\n",
       "   'isBestMatch': True},\n",
       "  'timestamp': 1612901168126,\n",
       "  'datetime': '2021-02-09T20:06:08.126Z',\n",
       "  'symbol': 'DOGE/BTC',\n",
       "  'id': '8202732',\n",
       "  'order': '48352064',\n",
       "  'type': None,\n",
       "  'side': 'sell',\n",
       "  'takerOrMaker': 'taker',\n",
       "  'price': 1.51e-06,\n",
       "  'amount': 99.0,\n",
       "  'cost': 0.00014949,\n",
       "  'fee': {'cost': 1.5e-07, 'currency': 'BTC'}}]"
      ]
     },
     "execution_count": 184,
     "metadata": {},
     "output_type": "execute_result"
    }
   ],
   "source": [
    "trades = b.fetchMyTrades(pair,limit=6)"
   ]
  },
  {
   "cell_type": "code",
   "execution_count": 185,
   "metadata": {},
   "outputs": [],
   "source": [
    "sell_trade = trades[-1]\n",
    "buy_trade = trades[-2]"
   ]
  },
  {
   "cell_type": "code",
   "execution_count": 186,
   "metadata": {},
   "outputs": [
    {
     "name": "stdout",
     "output_type": "stream",
     "text": [
      "{'info': {'symbol': 'DOGEBTC', 'id': 8199671, 'orderId': 48343133, 'orderListId': -1, 'price': '0.00000154', 'qty': '100.00000000', 'quoteQty': '0.00015400', 'commission': '0.10000000', 'commissionAsset': 'DOGE', 'time': 1612900542783, 'isBuyer': True, 'isMaker': False, 'isBestMatch': True}, 'timestamp': 1612900542783, 'datetime': '2021-02-09T19:55:42.783Z', 'symbol': 'DOGE/BTC', 'id': '8199671', 'order': '48343133', 'type': None, 'side': 'buy', 'takerOrMaker': 'taker', 'price': 1.54e-06, 'amount': 100.0, 'cost': 0.000154, 'fee': {'cost': 0.1, 'currency': 'DOGE'}}\n",
      "{'info': {'symbol': 'DOGEBTC', 'id': 8199777, 'orderId': 48343450, 'orderListId': -1, 'price': '0.00000153', 'qty': '99.00000000', 'quoteQty': '0.00015147', 'commission': '0.00000015', 'commissionAsset': 'BTC', 'time': 1612900563868, 'isBuyer': False, 'isMaker': False, 'isBestMatch': True}, 'timestamp': 1612900563868, 'datetime': '2021-02-09T19:56:03.868Z', 'symbol': 'DOGE/BTC', 'id': '8199777', 'order': '48343450', 'type': None, 'side': 'sell', 'takerOrMaker': 'taker', 'price': 1.53e-06, 'amount': 99.0, 'cost': 0.00015146999999999998, 'fee': {'cost': 1.5e-07, 'currency': 'BTC'}}\n"
     ]
    }
   ],
   "source": [
    "print(buy_trade)\n",
    "print(sell_trade)"
   ]
  },
  {
   "cell_type": "code",
   "execution_count": 187,
   "metadata": {},
   "outputs": [],
   "source": [
    "ticker = pair\n",
    "conversion = 'BTC/USDT'"
   ]
  },
  {
   "cell_type": "code",
   "execution_count": 188,
   "metadata": {},
   "outputs": [
    {
     "name": "stdout",
     "output_type": "stream",
     "text": [
      "\n",
      "Gain/Loss: $-4687.648126:\n",
      "\n"
     ]
    }
   ],
   "source": [
    "buy, sell = None, None\n",
    "for trade in b.fetchMyTrades(ticker,limit=6):\n",
    "    if trade['info']['orderId'] == buy_trade['info']['orderId']:\n",
    "        buy = trade\n",
    "    elif trade['info']['orderId'] == sell_trade['info']['orderId']:\n",
    "        sell = trade\n",
    "    if buy is not None and sell is not None:\n",
    "        try:\n",
    "            usdpair = b.fetchTicker(conversion)\n",
    "        except:\n",
    "            usdpair = b.fetchTicker(conversion+'T')\n",
    "        print('\\nGain/Loss: ${:.6f}:\\n'.format((sell['cost']-buy['cost']-buy['fee']['cost']-sell['fee']['cost'])*(usdpair['bid']+usdpair['ask'])/2))\n",
    "        break"
   ]
  },
  {
   "cell_type": "code",
   "execution_count": 197,
   "metadata": {},
   "outputs": [
    {
     "ename": "TypeError",
     "evalue": "'method' object is not subscriptable",
     "output_type": "error",
     "traceback": [
      "\u001b[0;31m---------------------------------------------------------------------------\u001b[0m",
      "\u001b[0;31mTypeError\u001b[0m                                 Traceback (most recent call last)",
      "\u001b[0;32m<ipython-input-197-016787c90231>\u001b[0m in \u001b[0;36m<module>\u001b[0;34m\u001b[0m\n\u001b[1;32m      1\u001b[0m \u001b[0musd_sell\u001b[0m \u001b[0;34m=\u001b[0m \u001b[0msell\u001b[0m\u001b[0;34m[\u001b[0m\u001b[0;34m'fee'\u001b[0m\u001b[0;34m]\u001b[0m\u001b[0;34m[\u001b[0m\u001b[0;34m'currency'\u001b[0m\u001b[0;34m]\u001b[0m\u001b[0;34m+\u001b[0m\u001b[0;34m'/USDT'\u001b[0m\u001b[0;34m\u001b[0m\u001b[0;34m\u001b[0m\u001b[0m\n\u001b[1;32m      2\u001b[0m \u001b[0musd_buy\u001b[0m \u001b[0;34m=\u001b[0m \u001b[0mbuy\u001b[0m\u001b[0;34m[\u001b[0m\u001b[0;34m'fee'\u001b[0m\u001b[0;34m]\u001b[0m\u001b[0;34m[\u001b[0m\u001b[0;34m'currency'\u001b[0m\u001b[0;34m]\u001b[0m\u001b[0;34m+\u001b[0m\u001b[0;34m'/USDT'\u001b[0m\u001b[0;34m\u001b[0m\u001b[0;34m\u001b[0m\u001b[0m\n\u001b[0;32m----> 3\u001b[0;31m \u001b[0mprint\u001b[0m\u001b[0;34m(\u001b[0m\u001b[0msell\u001b[0m\u001b[0;34m[\u001b[0m\u001b[0;34m'fee'\u001b[0m\u001b[0;34m]\u001b[0m\u001b[0;34m[\u001b[0m\u001b[0;34m'cost'\u001b[0m\u001b[0;34m]\u001b[0m \u001b[0;34m*\u001b[0m \u001b[0mb\u001b[0m\u001b[0;34m.\u001b[0m\u001b[0mfetchTicker\u001b[0m\u001b[0;34m[\u001b[0m\u001b[0musd_sell\u001b[0m\u001b[0;34m]\u001b[0m\u001b[0;34m)\u001b[0m\u001b[0;34m\u001b[0m\u001b[0;34m\u001b[0m\u001b[0m\n\u001b[0m\u001b[1;32m      4\u001b[0m \u001b[0mprint\u001b[0m\u001b[0;34m(\u001b[0m\u001b[0mbuy\u001b[0m\u001b[0;34m[\u001b[0m\u001b[0;34m'fee'\u001b[0m\u001b[0;34m]\u001b[0m\u001b[0;34m[\u001b[0m\u001b[0;34m'cost'\u001b[0m\u001b[0;34m]\u001b[0m \u001b[0;34m*\u001b[0m \u001b[0mb\u001b[0m\u001b[0;34m.\u001b[0m\u001b[0mfetchTicker\u001b[0m\u001b[0;34m[\u001b[0m\u001b[0musd_buy\u001b[0m\u001b[0;34m]\u001b[0m\u001b[0;34m)\u001b[0m\u001b[0;34m\u001b[0m\u001b[0;34m\u001b[0m\u001b[0m\n\u001b[1;32m      5\u001b[0m \u001b[0;34m\u001b[0m\u001b[0m\n",
      "\u001b[0;31mTypeError\u001b[0m: 'method' object is not subscriptable"
     ]
    }
   ],
   "source": [
    "usd_sell = sell['fee']['currency']+'/USDT'\n",
    "usd_buy = buy['fee']['currency']+'/USDT'\n",
    "print(sell['fee']['cost'] * b.fetchTicker(usd_sell))\n",
    "print(buy['fee']['cost'] * b.fetchTicker(usd_buy))\n",
    "\n"
   ]
  },
  {
   "cell_type": "code",
   "execution_count": 193,
   "metadata": {},
   "outputs": [
    {
     "data": {
      "text/plain": [
       "{'info': {'symbol': 'DOGEBTC',\n",
       "  'id': 8199671,\n",
       "  'orderId': 48343133,\n",
       "  'orderListId': -1,\n",
       "  'price': '0.00000154',\n",
       "  'qty': '100.00000000',\n",
       "  'quoteQty': '0.00015400',\n",
       "  'commission': '0.10000000',\n",
       "  'commissionAsset': 'DOGE',\n",
       "  'time': 1612900542783,\n",
       "  'isBuyer': True,\n",
       "  'isMaker': False,\n",
       "  'isBestMatch': True},\n",
       " 'timestamp': 1612900542783,\n",
       " 'datetime': '2021-02-09T19:55:42.783Z',\n",
       " 'symbol': 'DOGE/BTC',\n",
       " 'id': '8199671',\n",
       " 'order': '48343133',\n",
       " 'type': None,\n",
       " 'side': 'buy',\n",
       " 'takerOrMaker': 'taker',\n",
       " 'price': 1.54e-06,\n",
       " 'amount': 100.0,\n",
       " 'cost': 0.000154,\n",
       " 'fee': {'cost': 0.1, 'currency': 'DOGE'}}"
      ]
     },
     "execution_count": 193,
     "metadata": {},
     "output_type": "execute_result"
    }
   ],
   "source": [
    "buy"
   ]
  },
  {
   "cell_type": "code",
   "execution_count": null,
   "metadata": {},
   "outputs": [],
   "source": [
    "print('\\nGain/Loss: ${:.6f}:\\n'.format((sell['cost']-buy['cost']-buy['fee']['cost']-sell['fee']['cost'])*(usdpair['bid']+usdpair['ask'])/2))\n",
    "\n"
   ]
  },
  {
   "cell_type": "code",
   "execution_count": 190,
   "metadata": {},
   "outputs": [
    {
     "name": "stdout",
     "output_type": "stream",
     "text": [
      "46875.22\n"
     ]
    }
   ],
   "source": [
    "print(usdpair['bid'])"
   ]
  },
  {
   "cell_type": "code",
   "execution_count": 191,
   "metadata": {},
   "outputs": [
    {
     "name": "stdout",
     "output_type": "stream",
     "text": [
      "46875.23\n"
     ]
    }
   ],
   "source": [
    "print(usdpair['ask'])"
   ]
  }
 ],
 "metadata": {
  "kernelspec": {
   "display_name": "venv",
   "language": "python",
   "name": "venv"
  },
  "language_info": {
   "codemirror_mode": {
    "name": "ipython",
    "version": 3
   },
   "file_extension": ".py",
   "mimetype": "text/x-python",
   "name": "python",
   "nbconvert_exporter": "python",
   "pygments_lexer": "ipython3",
   "version": "3.8.5"
  }
 },
 "nbformat": 4,
 "nbformat_minor": 4
}
