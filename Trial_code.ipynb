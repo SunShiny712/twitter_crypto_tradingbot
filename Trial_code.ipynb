{
 "cells": [
  {
   "cell_type": "markdown",
   "metadata": {},
   "source": [
    "# Trial for tweeting and Apis"
   ]
  },
  {
   "cell_type": "code",
   "execution_count": null,
   "metadata": {},
   "outputs": [],
   "source": [
    "import ccxt\n",
    "import json\n",
    "import tweepy"
   ]
  },
  {
   "cell_type": "code",
   "execution_count": null,
   "metadata": {},
   "outputs": [],
   "source": [
    "f = open('../keys.json','r')\n",
    "api_keys = json.loads(f.read())\n",
    "f.close()"
   ]
  },
  {
   "cell_type": "code",
   "execution_count": null,
   "metadata": {},
   "outputs": [],
   "source": [
    "pair = 'DOGE/BTC'"
   ]
  },
  {
   "cell_type": "markdown",
   "metadata": {},
   "source": [
    "## Twitter Trial"
   ]
  },
  {
   "cell_type": "code",
   "execution_count": null,
   "metadata": {},
   "outputs": [],
   "source": [
    "# Read keys\n",
    "f = open('../keys.json','r')\n",
    "api_keys = json.loads(f.read())\n",
    "f.close()\n",
    "twitter_keys = {'consumer_key':api_keys['twitter_keys']['consumer_key'],'consumer_secret':api_keys['twitter_keys']['consumer_secret'],'access_token_key':api_keys['twitter_keys']['access_token_key'],'access_token_secret': api_keys['twitter_keys']['access_token_secret']}"
   ]
  },
  {
   "cell_type": "code",
   "execution_count": null,
   "metadata": {},
   "outputs": [],
   "source": [
    "# Use twitter API\n",
    "auth = tweepy.OAuthHandler(twitter_keys['consumer_key'], twitter_keys['consumer_secret'])\n",
    "auth.set_access_token(twitter_keys['access_token_key'], twitter_keys['access_token_secret'])\n",
    "api = tweepy.API(auth)"
   ]
  },
  {
   "cell_type": "code",
   "execution_count": null,
   "metadata": {},
   "outputs": [],
   "source": [
    "user = ['ArbitrageDaddy', 1351770767130673152]"
   ]
  },
  {
   "cell_type": "code",
   "execution_count": null,
   "metadata": {},
   "outputs": [],
   "source": [
    "tweets = api.user_timeline(user_id=user[1], count=1,include_rts = True, exclude_replies = True, tweet_mode = 'extended', wait_on_rate_limit=True, wait_on_rate_limit_notify=True)"
   ]
  },
  {
   "cell_type": "code",
   "execution_count": null,
   "metadata": {},
   "outputs": [],
   "source": [
    "for tweet in tweets:\n",
    "    print (tweet.full_text)\n"
   ]
  },
  {
   "cell_type": "markdown",
   "metadata": {},
   "source": [
    "## Kraken"
   ]
  },
  {
   "cell_type": "code",
   "execution_count": null,
   "metadata": {},
   "outputs": [],
   "source": [
    "kraken_keys = {'api_key':api_keys['krakenapi_keys']['api_key'],'secret_key':api_keys['krakenapi_keys']['secret_key']}\n",
    "k = ccxt.kraken({'apiKey':kraken_keys['api_key'], 'secret':kraken_keys['secret_key']})\n"
   ]
  },
  {
   "cell_type": "code",
   "execution_count": null,
   "metadata": {},
   "outputs": [],
   "source": [
    "funcs =  k.has"
   ]
  },
  {
   "cell_type": "code",
   "execution_count": null,
   "metadata": {
    "scrolled": false
   },
   "outputs": [],
   "source": [
    "trades = k.fetchMyTrades(pair)"
   ]
  },
  {
   "cell_type": "code",
   "execution_count": null,
   "metadata": {},
   "outputs": [],
   "source": [
    "sell = trades[-1]\n",
    "buy = trades[-2]"
   ]
  },
  {
   "cell_type": "code",
   "execution_count": null,
   "metadata": {},
   "outputs": [],
   "source": [
    "usdpair = k.fetchTicker('BTC/USD')\n",
    "(usdpair['bid']+usdpair['ask'])/2"
   ]
  },
  {
   "cell_type": "code",
   "execution_count": null,
   "metadata": {},
   "outputs": [],
   "source": [
    "btc_price = (usdpair['bid']+usdpair['ask'])/2"
   ]
  },
  {
   "cell_type": "code",
   "execution_count": null,
   "metadata": {},
   "outputs": [],
   "source": [
    "print((sell['cost'] - buy['cost'] - buy['fee']['cost'] - sell['fee']['cost']) * (usdpair['bid']+usdpair['ask'])/2)\n"
   ]
  },
  {
   "cell_type": "markdown",
   "metadata": {},
   "source": [
    "## Binance"
   ]
  },
  {
   "cell_type": "code",
   "execution_count": null,
   "metadata": {},
   "outputs": [],
   "source": [
    "bin_keys = {'api_key':api_keys['binance_keys']['api_key'],'secret_key':api_keys['binance_keys']['secret_key']}\n",
    "b = ccxt.binance({'apiKey':bin_keys['api_key'], 'secret':bin_keys['secret_key']})"
   ]
  },
  {
   "cell_type": "code",
   "execution_count": null,
   "metadata": {},
   "outputs": [],
   "source": [
    "# b.has"
   ]
  },
  {
   "cell_type": "code",
   "execution_count": null,
   "metadata": {
    "scrolled": false
   },
   "outputs": [],
   "source": [
    "# tickers = b.fetchTickers()\n",
    "# gbp_tickers = sorted(filter(lambda x : x.endswith('/GBP'), list(tickers.keys())))\n",
    "# btc_tickers = sorted(filter(lambda x : x.endswith('/BTC'), list(tickers.keys())))\n",
    "# usd_tickers = sorted(filter(lambda x : x.endswith('/USD'), list(tickers.keys())))\n",
    "# usdt_tickers = sorted(filter(lambda x : x.endswith('/USDT'), list(tickers.keys())))\n",
    "# print(gbp_tickers)\n",
    "# print(usdt_tickers)\n",
    "\n",
    "# btc_tickers"
   ]
  },
  {
   "cell_type": "code",
   "execution_count": null,
   "metadata": {},
   "outputs": [],
   "source": [
    "b.fetchBalance()"
   ]
  },
  {
   "cell_type": "code",
   "execution_count": null,
   "metadata": {},
   "outputs": [],
   "source": [
    "tousd = 'DOGE/USDT'\n",
    "amount = 100"
   ]
  },
  {
   "cell_type": "code",
   "execution_count": null,
   "metadata": {},
   "outputs": [],
   "source": [
    "# buy = b.create_order(pair,'market','buy',amount)\n",
    "# sell = b.create_order(pair,'market','sell',amount - buy['fee']['cost'])"
   ]
  },
  {
   "cell_type": "code",
   "execution_count": null,
   "metadata": {},
   "outputs": [],
   "source": [
    "trades = b.fetchMyTrades(pair,limit=6)"
   ]
  },
  {
   "cell_type": "code",
   "execution_count": null,
   "metadata": {},
   "outputs": [],
   "source": [
    "sell_trade = trades[-1]\n",
    "buy_trade = trades[-2]"
   ]
  },
  {
   "cell_type": "code",
   "execution_count": null,
   "metadata": {},
   "outputs": [],
   "source": [
    "ticker = pair\n",
    "conversion = 'BTC/USDT'"
   ]
  },
  {
   "cell_type": "code",
   "execution_count": null,
   "metadata": {},
   "outputs": [],
   "source": [
    "buy, sell = None, None\n",
    "for trade in b.fetchMyTrades(ticker,limit=6):\n",
    "    if trade['info']['orderId'] == buy_trade['info']['orderId']:\n",
    "        buy = trade\n",
    "    elif trade['info']['orderId'] == sell_trade['info']['orderId']:\n",
    "        sell = trade\n",
    "    if buy is not None and sell is not None:\n",
    "        try:\n",
    "            usdpair = b.fetchTicker(conversion)\n",
    "        except:\n",
    "            usdpair = b.fetchTicker(conversion+'T')\n",
    "        print('\\nGain/Loss: ${:.6f}:\\n'.format((sell['cost']-buy['cost']-buy['fee']['cost']-sell['fee']['cost'])*(usdpair['bid']+usdpair['ask'])/2))\n",
    "        break"
   ]
  },
  {
   "cell_type": "code",
   "execution_count": null,
   "metadata": {},
   "outputs": [],
   "source": [
    "usd_sell = sell['fee']['currency']+'/USDT'\n",
    "usd_buy = buy['fee']['currency']+'/USDT'\n",
    "print(sell['fee']['cost'] * b.fetchTicker(usd_sell)['bid'])\n",
    "print(buy['fee']['cost'] * b.fetchTicker(usd_buy)['bid'])\n",
    "usdpair = b.fetchTicker(conversion)\n",
    "print('\\nGain/Loss: ${:.6f}:\\n'.format\\\n",
    "      ((sell['cost']-buy['cost'])*(usdpair['bid']+usdpair['ask'])/2\\\n",
    "       -buy['fee']['cost']*b.fetchTicker(usd_buy)['bid']\\\n",
    "       -sell['fee']['cost']*b.fetchTicker(usd_sell)['bid']))f"
   ]
  }
 ],
 "metadata": {
  "kernelspec": {
   "display_name": "venv",
   "language": "python",
   "name": "venv"
  },
  "language_info": {
   "codemirror_mode": {
    "name": "ipython",
    "version": 3
   },
   "file_extension": ".py",
   "mimetype": "text/x-python",
   "name": "python",
   "nbconvert_exporter": "python",
   "pygments_lexer": "ipython3",
   "version": "3.8.5"
  }
 },
 "nbformat": 4,
 "nbformat_minor": 4
}
