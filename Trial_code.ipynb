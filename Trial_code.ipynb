{
 "cells": [
  {
   "cell_type": "markdown",
   "metadata": {},
   "source": [
    "# Trial for tweeting and Apis"
   ]
  },
  {
   "cell_type": "code",
   "execution_count": 516,
   "metadata": {},
   "outputs": [],
   "source": [
    "import ccxt\n",
    "import json\n",
    "from datetime import datetime\n",
    "import time\n",
    "import tweepy"
   ]
  },
  {
   "cell_type": "code",
   "execution_count": 2,
   "metadata": {},
   "outputs": [],
   "source": [
    "f = open('../keys.json','r')\n",
    "api_keys = json.loads(f.read())\n",
    "f.close()"
   ]
  },
  {
   "cell_type": "code",
   "execution_count": 3,
   "metadata": {},
   "outputs": [],
   "source": [
    "pair = 'DOGE/BTC'"
   ]
  },
  {
   "cell_type": "markdown",
   "metadata": {},
   "source": [
    "## Twitter Trial"
   ]
  },
  {
   "cell_type": "code",
   "execution_count": null,
   "metadata": {},
   "outputs": [],
   "source": [
    "# Read keys\n",
    "f = open('../keys.json','r')\n",
    "api_keys = json.loads(f.read())\n",
    "f.close()\n",
    "twitter_keys = {'consumer_key':api_keys['twitter_keys']['consumer_key'],'consumer_secret':api_keys['twitter_keys']['consumer_secret'],'access_token_key':api_keys['twitter_keys']['access_token_key'],'access_token_secret': api_keys['twitter_keys']['access_token_secret']}"
   ]
  },
  {
   "cell_type": "code",
   "execution_count": null,
   "metadata": {},
   "outputs": [],
   "source": [
    "# Use twitter API\n",
    "auth = tweepy.OAuthHandler(twitter_keys['consumer_key'], twitter_keys['consumer_secret'])\n",
    "auth.set_access_token(twitter_keys['access_token_key'], twitter_keys['access_token_secret'])\n",
    "api = tweepy.API(auth)"
   ]
  },
  {
   "cell_type": "code",
   "execution_count": null,
   "metadata": {},
   "outputs": [],
   "source": [
    "user = ['ArbitrageDaddy', 1351770767130673152]"
   ]
  },
  {
   "cell_type": "code",
   "execution_count": null,
   "metadata": {},
   "outputs": [],
   "source": [
    "tweets = api.user_timeline(user_id=user[1], count=1,include_rts = True, exclude_replies = True, tweet_mode = 'extended', wait_on_rate_limit=True, wait_on_rate_limit_notify=True)"
   ]
  },
  {
   "cell_type": "code",
   "execution_count": null,
   "metadata": {},
   "outputs": [],
   "source": [
    "for tweet in tweets:\n",
    "    print (tweet.full_text)\n"
   ]
  },
  {
   "cell_type": "markdown",
   "metadata": {},
   "source": [
    "## Kraken"
   ]
  },
  {
   "cell_type": "code",
   "execution_count": null,
   "metadata": {},
   "outputs": [],
   "source": [
    "kraken_keys = {'api_key':api_keys['krakenapi_keys']['api_key'],'secret_key':api_keys['krakenapi_keys']['secret_key']}\n",
    "k = ccxt.kraken({'apiKey':kraken_keys['api_key'], 'secret':kraken_keys['secret_key']})\n"
   ]
  },
  {
   "cell_type": "code",
   "execution_count": null,
   "metadata": {},
   "outputs": [],
   "source": [
    "funcs =  k.has"
   ]
  },
  {
   "cell_type": "code",
   "execution_count": null,
   "metadata": {
    "scrolled": false
   },
   "outputs": [],
   "source": [
    "trades = k.fetchMyTrades(pair)"
   ]
  },
  {
   "cell_type": "code",
   "execution_count": null,
   "metadata": {},
   "outputs": [],
   "source": [
    "sell = trades[-1]\n",
    "buy = trades[-2]"
   ]
  },
  {
   "cell_type": "code",
   "execution_count": null,
   "metadata": {},
   "outputs": [],
   "source": [
    "usdpair = k.fetchTicker('BTC/USD')\n",
    "(usdpair['bid']+usdpair['ask'])/2"
   ]
  },
  {
   "cell_type": "code",
   "execution_count": null,
   "metadata": {},
   "outputs": [],
   "source": [
    "btc_price = (usdpair['bid'] + usdpair['ask']) / 2"
   ]
  },
  {
   "cell_type": "code",
   "execution_count": null,
   "metadata": {},
   "outputs": [],
   "source": [
    "print((sell['cost'] - buy['cost'] - buy['fee']['cost'] - sell['fee']['cost']) * (usdpair['bid']+usdpair['ask'])/2)\n"
   ]
  },
  {
   "cell_type": "markdown",
   "metadata": {},
   "source": [
    "## Binance"
   ]
  },
  {
   "cell_type": "code",
   "execution_count": 4,
   "metadata": {},
   "outputs": [],
   "source": [
    "bin_keys = {'api_key':api_keys['binance_keys']['api_key'],'secret_key':api_keys['binance_keys']['secret_key']}\n",
    "b = ccxt.binance({'apiKey':bin_keys['api_key'], 'secret':bin_keys['secret_key']})"
   ]
  },
  {
   "cell_type": "code",
   "execution_count": 222,
   "metadata": {},
   "outputs": [],
   "source": [
    "# tousd = 'DOGE/USDT'\n",
    "pair = 'DOGE/GBP'\n",
    "amount = 200"
   ]
  },
  {
   "cell_type": "code",
   "execution_count": 223,
   "metadata": {},
   "outputs": [],
   "source": [
    "# buy  = b.create_order(pair,'market','buy',amount)\n",
    "# sell = b.create_order(pair,'market','sell',amount)"
   ]
  },
  {
   "cell_type": "code",
   "execution_count": 91,
   "metadata": {
    "scrolled": true
   },
   "outputs": [
    {
     "name": "stdout",
     "output_type": "stream",
     "text": [
      "7\n",
      "258\n",
      "310\n",
      "216\n"
     ]
    }
   ],
   "source": [
    "tickers = b.fetchTickers()\n",
    "\n",
    "gbp_tickers = sorted(filter(lambda x : x.endswith('/GBP'), list(tickers.keys())))\n",
    "btc_tickers = sorted(filter(lambda x : x.endswith('/BTC') or x.startswith('BTC/'), list(tickers.keys())))\n",
    "usd_tickers = sorted(filter(lambda x : x.endswith('/USD'), list(tickers.keys())))\n",
    "usdt_tickers = sorted(filter(lambda x : x.endswith('/USDT'), list(tickers.keys())))\n",
    "bnb_tickers = sorted(filter(lambda x : x.endswith('/BNB') or x.startswith('BNB/'), list(tickers.keys())))\n",
    "print(len(gbp_tickers))\n",
    "print(len(usdt_tickers))\n",
    "print(len(btc_tickers))\n",
    "print(len(bnb_tickers))"
   ]
  },
  {
   "cell_type": "code",
   "execution_count": 59,
   "metadata": {},
   "outputs": [],
   "source": [
    "tickers = set(tickers.keys())"
   ]
  },
  {
   "cell_type": "code",
   "execution_count": 139,
   "metadata": {},
   "outputs": [
    {
     "name": "stdout",
     "output_type": "stream",
     "text": [
      "0.05384746280860475\n",
      "0.05338\n"
     ]
    },
    {
     "data": {
      "text/plain": [
       "7.941483000000062"
      ]
     },
     "execution_count": 139,
     "metadata": {},
     "output_type": "execute_result"
    }
   ],
   "source": [
    "selling = 0.05375*5332.6+0.05376*243.6+0.05385*5912.5+0.05391*226.7+0.05392*1000.0+0.05395*4284.5\n",
    "avg_sell = (0.05375*5332.6+0.05376*243.6+0.05385*5912.5+0.05391*226.7+0.05392*1000.0+0.05395*4284.5) \\\n",
    "            / (5332.6+243.6+5912.5+226.7+1000.0+4284.5)\n",
    "print(avg_sell)\n",
    "\n",
    "buying = 0.05338*16006.8 + 0.05338*993.2\n",
    "avg_buy = buying / (16006.8+993.2)\n",
    "print(avg_buy)\n",
    "\n",
    "selling - buying"
   ]
  },
  {
   "cell_type": "code",
   "execution_count": null,
   "metadata": {},
   "outputs": [],
   "source": [
    "# Convert the fee currency to the Buying currency\n",
    "# e.g.\n",
    "''' \n",
    "1.\n",
    "Buy  DOGE/BTC -> fee in DOGE: nothing\n",
    "Sell DOGE/BTC -> fee in BTC: convert DOGE/BTC\n",
    "\n",
    "2.\n",
    "Buy  DOGE/BTC -> fee in BNB: convert DOGE/BNB\n",
    "Sell DOGE/BTC -> fee in BNB: convert DOGE/BNB\n",
    "\n",
    "3.\n",
    "Buy  DOGE/GBP -> fee in DOGE: \n",
    "Sell DOGE/GBP -> fee in GBP: convert DOGE/GBP\n",
    "\n",
    "4.\n",
    "Buy  DOGE/GBP -> fee in BNB: convert DOGE/BNB\n",
    "Sell DOGE/GBP -> fee in BNB: convert DOGE/BNB\n",
    "\n",
    "5.\n",
    "Buy  BTC/GBP -> fee in BNB: convert DOGE/BNB\n",
    "Sell BTC/GBP -> fee in BNB: convert DOGE/BNB\n",
    "'''"
   ]
  },
  {
   "cell_type": "code",
   "execution_count": 111,
   "metadata": {},
   "outputs": [
    {
     "name": "stdout",
     "output_type": "stream",
     "text": [
      "0.0004 0.000399709149818\n"
     ]
    }
   ],
   "source": [
    "ticker = 'BTC/GBP'\n",
    "trades = b.fetchMyTrades(ticker,limit=6)\n",
    "for i in range(len(trades)-1):\n",
    "    sell_trade = trades[-1-i]\n",
    "    buy_trade = trades[-2-i]\n",
    "    assert sell_trade['side'] == 'sell' and buy_trade['side'] == 'buy'\n",
    "\n",
    "    buy_volume = buy_trade['amount']\n",
    "\n",
    "    fee_pair = [ticker.split('/')[0],buy_trade['fee']['currency']]\n",
    "    fee_ticker = '/'.join(fee_pair)\n",
    "    fee_ticker_1 = '/'.join(fee_pair[::-1])\n",
    "\n",
    "    if fee_ticker in tickers:\n",
    "        fee = b.fetchTicker(fee_ticker)\n",
    "    elif fee_ticker_1 in tickers:\n",
    "        fee = b.fetchTicker(fee_ticker_1)\n",
    "\n",
    "    fee_price = fee['last']\n",
    "\n",
    "    sell_volume = buy_volume - fee_price*buy_trade['fee']['cost']\n",
    "    print(buy_volume , sell_volume)\n"
   ]
  },
  {
   "cell_type": "code",
   "execution_count": 123,
   "metadata": {
    "collapsed": true
   },
   "outputs": [
    {
     "name": "stdout",
     "output_type": "stream",
     "text": [
      "[{'info': {'symbol': 'DOGEBTC', 'id': 8165194, 'orderId': 48256635, 'orderListId': -1, 'price': '0.00000150', 'qty': '100.00000000', 'quoteQty': '0.00015000', 'commission': '0.10000000', 'commissionAsset': 'DOGE', 'time': 1612894510373, 'isBuyer': True, 'isMaker': False, 'isBestMatch': True}, 'timestamp': 1612894510373, 'datetime': '2021-02-09T18:15:10.373Z', 'symbol': 'DOGE/BTC', 'id': '8165194', 'order': '48256635', 'type': None, 'side': 'buy', 'takerOrMaker': 'taker', 'price': 1.5e-06, 'amount': 100.0, 'cost': 0.00015000000000000001, 'fee': {'cost': 0.1, 'currency': 'DOGE'}}, {'info': {'symbol': 'DOGEBTC', 'id': 8165237, 'orderId': 48256772, 'orderListId': -1, 'price': '0.00000149', 'qty': '99.00000000', 'quoteQty': '0.00014751', 'commission': '0.00000015', 'commissionAsset': 'BTC', 'time': 1612894526623, 'isBuyer': False, 'isMaker': False, 'isBestMatch': True}, 'timestamp': 1612894526623, 'datetime': '2021-02-09T18:15:26.623Z', 'symbol': 'DOGE/BTC', 'id': '8165237', 'order': '48256772', 'type': None, 'side': 'sell', 'takerOrMaker': 'taker', 'price': 1.49e-06, 'amount': 99.0, 'cost': 0.00014751, 'fee': {'cost': 1.5e-07, 'currency': 'BTC'}}, {'info': {'symbol': 'DOGEBTC', 'id': 8167310, 'orderId': 48262124, 'orderListId': -1, 'price': '0.00000148', 'qty': '100.00000000', 'quoteQty': '0.00014800', 'commission': '0.10000000', 'commissionAsset': 'DOGE', 'time': 1612894934911, 'isBuyer': True, 'isMaker': False, 'isBestMatch': True}, 'timestamp': 1612894934911, 'datetime': '2021-02-09T18:22:14.911Z', 'symbol': 'DOGE/BTC', 'id': '8167310', 'order': '48262124', 'type': None, 'side': 'buy', 'takerOrMaker': 'taker', 'price': 1.48e-06, 'amount': 100.0, 'cost': 0.000148, 'fee': {'cost': 0.1, 'currency': 'DOGE'}}, {'info': {'symbol': 'DOGEBTC', 'id': 8167318, 'orderId': 48262145, 'orderListId': -1, 'price': '0.00000147', 'qty': '100.00000000', 'quoteQty': '0.00014700', 'commission': '0.00000015', 'commissionAsset': 'BTC', 'time': 1612894937799, 'isBuyer': False, 'isMaker': False, 'isBestMatch': True}, 'timestamp': 1612894937799, 'datetime': '2021-02-09T18:22:17.799Z', 'symbol': 'DOGE/BTC', 'id': '8167318', 'order': '48262145', 'type': None, 'side': 'sell', 'takerOrMaker': 'taker', 'price': 1.47e-06, 'amount': 100.0, 'cost': 0.000147, 'fee': {'cost': 1.5e-07, 'currency': 'BTC'}}, {'info': {'symbol': 'DOGEBTC', 'id': 8168172, 'orderId': 48264110, 'orderListId': -1, 'price': '0.00000149', 'qty': '100.00000000', 'quoteQty': '0.00014900', 'commission': '0.10000000', 'commissionAsset': 'DOGE', 'time': 1612895081505, 'isBuyer': True, 'isMaker': False, 'isBestMatch': True}, 'timestamp': 1612895081505, 'datetime': '2021-02-09T18:24:41.505Z', 'symbol': 'DOGE/BTC', 'id': '8168172', 'order': '48264110', 'type': None, 'side': 'buy', 'takerOrMaker': 'taker', 'price': 1.49e-06, 'amount': 100.0, 'cost': 0.000149, 'fee': {'cost': 0.1, 'currency': 'DOGE'}}, {'info': {'symbol': 'DOGEBTC', 'id': 8168181, 'orderId': 48264160, 'orderListId': -1, 'price': '0.00000147', 'qty': '100.00000000', 'quoteQty': '0.00014700', 'commission': '0.00000015', 'commissionAsset': 'BTC', 'time': 1612895083007, 'isBuyer': False, 'isMaker': False, 'isBestMatch': True}, 'timestamp': 1612895083007, 'datetime': '2021-02-09T18:24:43.007Z', 'symbol': 'DOGE/BTC', 'id': '8168181', 'order': '48264160', 'type': None, 'side': 'sell', 'takerOrMaker': 'taker', 'price': 1.47e-06, 'amount': 100.0, 'cost': 0.000147, 'fee': {'cost': 1.5e-07, 'currency': 'BTC'}}, {'info': {'symbol': 'DOGEBTC', 'id': 8168407, 'orderId': 48265106, 'orderListId': -1, 'price': '0.00000148', 'qty': '100.00000000', 'quoteQty': '0.00014800', 'commission': '0.10000000', 'commissionAsset': 'DOGE', 'time': 1612895156608, 'isBuyer': True, 'isMaker': False, 'isBestMatch': True}, 'timestamp': 1612895156608, 'datetime': '2021-02-09T18:25:56.608Z', 'symbol': 'DOGE/BTC', 'id': '8168407', 'order': '48265106', 'type': None, 'side': 'buy', 'takerOrMaker': 'taker', 'price': 1.48e-06, 'amount': 100.0, 'cost': 0.000148, 'fee': {'cost': 0.1, 'currency': 'DOGE'}}, {'info': {'symbol': 'DOGEBTC', 'id': 8168409, 'orderId': 48265109, 'orderListId': -1, 'price': '0.00000147', 'qty': '100.00000000', 'quoteQty': '0.00014700', 'commission': '0.00000015', 'commissionAsset': 'BTC', 'time': 1612895157035, 'isBuyer': False, 'isMaker': False, 'isBestMatch': True}, 'timestamp': 1612895157035, 'datetime': '2021-02-09T18:25:57.035Z', 'symbol': 'DOGE/BTC', 'id': '8168409', 'order': '48265109', 'type': None, 'side': 'sell', 'takerOrMaker': 'taker', 'price': 1.47e-06, 'amount': 100.0, 'cost': 0.000147, 'fee': {'cost': 1.5e-07, 'currency': 'BTC'}}, {'info': {'symbol': 'DOGEBTC', 'id': 8169629, 'orderId': 48268168, 'orderListId': -1, 'price': '0.00000146', 'qty': '70.00000000', 'quoteQty': '0.00010220', 'commission': '0.07000000', 'commissionAsset': 'DOGE', 'time': 1612895314797, 'isBuyer': True, 'isMaker': False, 'isBestMatch': True}, 'timestamp': 1612895314797, 'datetime': '2021-02-09T18:28:34.797Z', 'symbol': 'DOGE/BTC', 'id': '8169629', 'order': '48268168', 'type': None, 'side': 'buy', 'takerOrMaker': 'taker', 'price': 1.46e-06, 'amount': 70.0, 'cost': 0.0001022, 'fee': {'cost': 0.07, 'currency': 'DOGE'}}, {'info': {'symbol': 'DOGEBTC', 'id': 8169637, 'orderId': 48268180, 'orderListId': -1, 'price': '0.00000145', 'qty': '70.00000000', 'quoteQty': '0.00010150', 'commission': '0.00000010', 'commissionAsset': 'BTC', 'time': 1612895315951, 'isBuyer': False, 'isMaker': False, 'isBestMatch': True}, 'timestamp': 1612895315951, 'datetime': '2021-02-09T18:28:35.951Z', 'symbol': 'DOGE/BTC', 'id': '8169637', 'order': '48268180', 'type': None, 'side': 'sell', 'takerOrMaker': 'taker', 'price': 1.45e-06, 'amount': 70.0, 'cost': 0.0001015, 'fee': {'cost': 1e-07, 'currency': 'BTC'}}, {'info': {'symbol': 'DOGEBTC', 'id': 8170059, 'orderId': 48268763, 'orderListId': -1, 'price': '0.00000145', 'qty': '130.00000000', 'quoteQty': '0.00018850', 'commission': '0.13000000', 'commissionAsset': 'DOGE', 'time': 1612895340400, 'isBuyer': True, 'isMaker': False, 'isBestMatch': True}, 'timestamp': 1612895340400, 'datetime': '2021-02-09T18:29:00.400Z', 'symbol': 'DOGE/BTC', 'id': '8170059', 'order': '48268763', 'type': None, 'side': 'buy', 'takerOrMaker': 'taker', 'price': 1.45e-06, 'amount': 130.0, 'cost': 0.0001885, 'fee': {'cost': 0.13, 'currency': 'DOGE'}}, {'info': {'symbol': 'DOGEBTC', 'id': 8170061, 'orderId': 48268771, 'orderListId': -1, 'price': '0.00000144', 'qty': '130.00000000', 'quoteQty': '0.00018720', 'commission': '0.00000019', 'commissionAsset': 'BTC', 'time': 1612895340967, 'isBuyer': False, 'isMaker': False, 'isBestMatch': True}, 'timestamp': 1612895340967, 'datetime': '2021-02-09T18:29:00.967Z', 'symbol': 'DOGE/BTC', 'id': '8170061', 'order': '48268771', 'type': None, 'side': 'sell', 'takerOrMaker': 'taker', 'price': 1.44e-06, 'amount': 130.0, 'cost': 0.0001872, 'fee': {'cost': 1.9e-07, 'currency': 'BTC'}}, {'info': {'symbol': 'DOGEBTC', 'id': 8170132, 'orderId': 48269128, 'orderListId': -1, 'price': '0.00000145', 'qty': '400.00000000', 'quoteQty': '0.00058000', 'commission': '0.40000000', 'commissionAsset': 'DOGE', 'time': 1612895360210, 'isBuyer': True, 'isMaker': False, 'isBestMatch': True}, 'timestamp': 1612895360210, 'datetime': '2021-02-09T18:29:20.210Z', 'symbol': 'DOGE/BTC', 'id': '8170132', 'order': '48269128', 'type': None, 'side': 'buy', 'takerOrMaker': 'taker', 'price': 1.45e-06, 'amount': 400.0, 'cost': 0.00058, 'fee': {'cost': 0.4, 'currency': 'DOGE'}}, {'info': {'symbol': 'DOGEBTC', 'id': 8170138, 'orderId': 48269143, 'orderListId': -1, 'price': '0.00000144', 'qty': '400.00000000', 'quoteQty': '0.00057600', 'commission': '0.00000058', 'commissionAsset': 'BTC', 'time': 1612895361477, 'isBuyer': False, 'isMaker': False, 'isBestMatch': True}, 'timestamp': 1612895361477, 'datetime': '2021-02-09T18:29:21.477Z', 'symbol': 'DOGE/BTC', 'id': '8170138', 'order': '48269143', 'type': None, 'side': 'sell', 'takerOrMaker': 'taker', 'price': 1.44e-06, 'amount': 400.0, 'cost': 0.000576, 'fee': {'cost': 5.8e-07, 'currency': 'BTC'}}, {'info': {'symbol': 'DOGEBTC', 'id': 8173706, 'orderId': 48277784, 'orderListId': -1, 'price': '0.00000145', 'qty': '100.00000000', 'quoteQty': '0.00014500', 'commission': '0.10000000', 'commissionAsset': 'DOGE', 'time': 1612895831329, 'isBuyer': True, 'isMaker': False, 'isBestMatch': True}, 'timestamp': 1612895831329, 'datetime': '2021-02-09T18:37:11.329Z', 'symbol': 'DOGE/BTC', 'id': '8173706', 'order': '48277784', 'type': None, 'side': 'buy', 'takerOrMaker': 'taker', 'price': 1.45e-06, 'amount': 100.0, 'cost': 0.000145, 'fee': {'cost': 0.1, 'currency': 'DOGE'}}, {'info': {'symbol': 'DOGEBTC', 'id': 8173761, 'orderId': 48277955, 'orderListId': -1, 'price': '0.00000144', 'qty': '99.00000000', 'quoteQty': '0.00014256', 'commission': '0.00000014', 'commissionAsset': 'BTC', 'time': 1612895853106, 'isBuyer': False, 'isMaker': False, 'isBestMatch': True}, 'timestamp': 1612895853106, 'datetime': '2021-02-09T18:37:33.106Z', 'symbol': 'DOGE/BTC', 'id': '8173761', 'order': '48277955', 'type': None, 'side': 'sell', 'takerOrMaker': 'taker', 'price': 1.44e-06, 'amount': 99.0, 'cost': 0.00014256, 'fee': {'cost': 1.4e-07, 'currency': 'BTC'}}, {'info': {'symbol': 'DOGEBTC', 'id': 8199671, 'orderId': 48343133, 'orderListId': -1, 'price': '0.00000154', 'qty': '100.00000000', 'quoteQty': '0.00015400', 'commission': '0.10000000', 'commissionAsset': 'DOGE', 'time': 1612900542783, 'isBuyer': True, 'isMaker': False, 'isBestMatch': True}, 'timestamp': 1612900542783, 'datetime': '2021-02-09T19:55:42.783Z', 'symbol': 'DOGE/BTC', 'id': '8199671', 'order': '48343133', 'type': None, 'side': 'buy', 'takerOrMaker': 'taker', 'price': 1.54e-06, 'amount': 100.0, 'cost': 0.000154, 'fee': {'cost': 0.1, 'currency': 'DOGE'}}, {'info': {'symbol': 'DOGEBTC', 'id': 8199777, 'orderId': 48343450, 'orderListId': -1, 'price': '0.00000153', 'qty': '99.00000000', 'quoteQty': '0.00015147', 'commission': '0.00000015', 'commissionAsset': 'BTC', 'time': 1612900563868, 'isBuyer': False, 'isMaker': False, 'isBestMatch': True}, 'timestamp': 1612900563868, 'datetime': '2021-02-09T19:56:03.868Z', 'symbol': 'DOGE/BTC', 'id': '8199777', 'order': '48343450', 'type': None, 'side': 'sell', 'takerOrMaker': 'taker', 'price': 1.53e-06, 'amount': 99.0, 'cost': 0.00015146999999999998, 'fee': {'cost': 1.5e-07, 'currency': 'BTC'}}, {'info': {'symbol': 'DOGEBTC', 'id': 8202009, 'orderId': 48350385, 'orderListId': -1, 'price': '0.00000152', 'qty': '100.00000000', 'quoteQty': '0.00015200', 'commission': '0.10000000', 'commissionAsset': 'DOGE', 'time': 1612901078457, 'isBuyer': True, 'isMaker': False, 'isBestMatch': True}, 'timestamp': 1612901078457, 'datetime': '2021-02-09T20:04:38.457Z', 'symbol': 'DOGE/BTC', 'id': '8202009', 'order': '48350385', 'type': None, 'side': 'buy', 'takerOrMaker': 'taker', 'price': 1.52e-06, 'amount': 100.0, 'cost': 0.000152, 'fee': {'cost': 0.1, 'currency': 'DOGE'}}, {'info': {'symbol': 'DOGEBTC', 'id': 8202068, 'orderId': 48350536, 'orderListId': -1, 'price': '0.00000151', 'qty': '99.00000000', 'quoteQty': '0.00014949', 'commission': '0.00000015', 'commissionAsset': 'BTC', 'time': 1612901089686, 'isBuyer': False, 'isMaker': False, 'isBestMatch': True}, 'timestamp': 1612901089686, 'datetime': '2021-02-09T20:04:49.686Z', 'symbol': 'DOGE/BTC', 'id': '8202068', 'order': '48350536', 'type': None, 'side': 'sell', 'takerOrMaker': 'taker', 'price': 1.51e-06, 'amount': 99.0, 'cost': 0.00014949, 'fee': {'cost': 1.5e-07, 'currency': 'BTC'}}, {'info': {'symbol': 'DOGEBTC', 'id': 8202711, 'orderId': 48351868, 'orderListId': -1, 'price': '0.00000152', 'qty': '100.00000000', 'quoteQty': '0.00015200', 'commission': '0.10000000', 'commissionAsset': 'DOGE', 'time': 1612901156855, 'isBuyer': True, 'isMaker': False, 'isBestMatch': True}, 'timestamp': 1612901156855, 'datetime': '2021-02-09T20:05:56.855Z', 'symbol': 'DOGE/BTC', 'id': '8202711', 'order': '48351868', 'type': None, 'side': 'buy', 'takerOrMaker': 'taker', 'price': 1.52e-06, 'amount': 100.0, 'cost': 0.000152, 'fee': {'cost': 0.1, 'currency': 'DOGE'}}, {'info': {'symbol': 'DOGEBTC', 'id': 8202732, 'orderId': 48352064, 'orderListId': -1, 'price': '0.00000151', 'qty': '99.00000000', 'quoteQty': '0.00014949', 'commission': '0.00000015', 'commissionAsset': 'BTC', 'time': 1612901168126, 'isBuyer': False, 'isMaker': False, 'isBestMatch': True}, 'timestamp': 1612901168126, 'datetime': '2021-02-09T20:06:08.126Z', 'symbol': 'DOGE/BTC', 'id': '8202732', 'order': '48352064', 'type': None, 'side': 'sell', 'takerOrMaker': 'taker', 'price': 1.51e-06, 'amount': 99.0, 'cost': 0.00014949, 'fee': {'cost': 1.5e-07, 'currency': 'BTC'}}, {'info': {'symbol': 'DOGEBTC', 'id': 8209240, 'orderId': 48370692, 'orderListId': -1, 'price': '0.00000153', 'qty': '100.00000000', 'quoteQty': '0.00015300', 'commission': '0.10000000', 'commissionAsset': 'DOGE', 'time': 1612902702826, 'isBuyer': True, 'isMaker': False, 'isBestMatch': True}, 'timestamp': 1612902702826, 'datetime': '2021-02-09T20:31:42.826Z', 'symbol': 'DOGE/BTC', 'id': '8209240', 'order': '48370692', 'type': None, 'side': 'buy', 'takerOrMaker': 'taker', 'price': 1.53e-06, 'amount': 100.0, 'cost': 0.000153, 'fee': {'cost': 0.1, 'currency': 'DOGE'}}, {'info': {'symbol': 'DOGEBTC', 'id': 8209296, 'orderId': 48370771, 'orderListId': -1, 'price': '0.00000152', 'qty': '99.00000000', 'quoteQty': '0.00015048', 'commission': '0.00000015', 'commissionAsset': 'BTC', 'time': 1612902709078, 'isBuyer': False, 'isMaker': False, 'isBestMatch': True}, 'timestamp': 1612902709078, 'datetime': '2021-02-09T20:31:49.078Z', 'symbol': 'DOGE/BTC', 'id': '8209296', 'order': '48370771', 'type': None, 'side': 'sell', 'takerOrMaker': 'taker', 'price': 1.52e-06, 'amount': 99.0, 'cost': 0.00015048, 'fee': {'cost': 1.5e-07, 'currency': 'BTC'}}, {'info': {'symbol': 'DOGEBTC', 'id': 8231827, 'orderId': 48438396, 'orderListId': -1, 'price': '0.00000153', 'qty': '100.00000000', 'quoteQty': '0.00015300', 'commission': '0.10000000', 'commissionAsset': 'DOGE', 'time': 1612910298683, 'isBuyer': True, 'isMaker': False, 'isBestMatch': True}, 'timestamp': 1612910298683, 'datetime': '2021-02-09T22:38:18.683Z', 'symbol': 'DOGE/BTC', 'id': '8231827', 'order': '48438396', 'type': None, 'side': 'buy', 'takerOrMaker': 'taker', 'price': 1.53e-06, 'amount': 100.0, 'cost': 0.000153, 'fee': {'cost': 0.1, 'currency': 'DOGE'}}, {'info': {'symbol': 'DOGEBTC', 'id': 8231842, 'orderId': 48438414, 'orderListId': -1, 'price': '0.00000152', 'qty': '99.00000000', 'quoteQty': '0.00015048', 'commission': '0.00000015', 'commissionAsset': 'BTC', 'time': 1612910303186, 'isBuyer': False, 'isMaker': False, 'isBestMatch': True}, 'timestamp': 1612910303186, 'datetime': '2021-02-09T22:38:23.186Z', 'symbol': 'DOGE/BTC', 'id': '8231842', 'order': '48438414', 'type': None, 'side': 'sell', 'takerOrMaker': 'taker', 'price': 1.52e-06, 'amount': 99.0, 'cost': 0.00015048, 'fee': {'cost': 1.5e-07, 'currency': 'BTC'}}, {'info': {'symbol': 'DOGEBTC', 'id': 8269857, 'orderId': 48605894, 'orderListId': -1, 'price': '0.00000153', 'qty': '400.00000000', 'quoteQty': '0.00061200', 'commission': '0.40000000', 'commissionAsset': 'DOGE', 'time': 1612931496838, 'isBuyer': True, 'isMaker': False, 'isBestMatch': True}, 'timestamp': 1612931496838, 'datetime': '2021-02-10T04:31:36.838Z', 'symbol': 'DOGE/BTC', 'id': '8269857', 'order': '48605894', 'type': None, 'side': 'buy', 'takerOrMaker': 'taker', 'price': 1.53e-06, 'amount': 400.0, 'cost': 0.000612, 'fee': {'cost': 0.4, 'currency': 'DOGE'}}, {'info': {'symbol': 'DOGEBTC', 'id': 8270958, 'orderId': 48608381, 'orderListId': -1, 'price': '0.00000153', 'qty': '399.00000000', 'quoteQty': '0.00061047', 'commission': '0.00000061', 'commissionAsset': 'BTC', 'time': 1612931798529, 'isBuyer': False, 'isMaker': False, 'isBestMatch': True}, 'timestamp': 1612931798529, 'datetime': '2021-02-10T04:36:38.529Z', 'symbol': 'DOGE/BTC', 'id': '8270958', 'order': '48608381', 'type': None, 'side': 'sell', 'takerOrMaker': 'taker', 'price': 1.53e-06, 'amount': 399.0, 'cost': 0.00061047, 'fee': {'cost': 6.1e-07, 'currency': 'BTC'}}]\n",
      "400.0 399.99889052\n"
     ]
    },
    {
     "ename": "AssertionError",
     "evalue": "",
     "output_type": "error",
     "traceback": [
      "\u001b[0;31m---------------------------------------------------------------------------\u001b[0m",
      "\u001b[0;31mAssertionError\u001b[0m                            Traceback (most recent call last)",
      "\u001b[0;32m<ipython-input-123-54760000bef1>\u001b[0m in \u001b[0;36m<module>\u001b[0;34m\u001b[0m\n\u001b[1;32m      5\u001b[0m     \u001b[0msell_trade\u001b[0m \u001b[0;34m=\u001b[0m \u001b[0mtrades\u001b[0m\u001b[0;34m[\u001b[0m\u001b[0;34m-\u001b[0m\u001b[0;36m1\u001b[0m\u001b[0;34m-\u001b[0m\u001b[0mi\u001b[0m\u001b[0;34m]\u001b[0m\u001b[0;34m\u001b[0m\u001b[0;34m\u001b[0m\u001b[0m\n\u001b[1;32m      6\u001b[0m     \u001b[0mbuy_trade\u001b[0m \u001b[0;34m=\u001b[0m \u001b[0mtrades\u001b[0m\u001b[0;34m[\u001b[0m\u001b[0;34m-\u001b[0m\u001b[0;36m2\u001b[0m\u001b[0;34m-\u001b[0m\u001b[0mi\u001b[0m\u001b[0;34m]\u001b[0m\u001b[0;34m\u001b[0m\u001b[0;34m\u001b[0m\u001b[0m\n\u001b[0;32m----> 7\u001b[0;31m     \u001b[0;32massert\u001b[0m \u001b[0msell_trade\u001b[0m\u001b[0;34m[\u001b[0m\u001b[0;34m'side'\u001b[0m\u001b[0;34m]\u001b[0m \u001b[0;34m==\u001b[0m \u001b[0;34m'sell'\u001b[0m \u001b[0;32mand\u001b[0m \u001b[0mbuy_trade\u001b[0m\u001b[0;34m[\u001b[0m\u001b[0;34m'side'\u001b[0m\u001b[0;34m]\u001b[0m \u001b[0;34m==\u001b[0m \u001b[0;34m'buy'\u001b[0m\u001b[0;34m\u001b[0m\u001b[0;34m\u001b[0m\u001b[0m\n\u001b[0m\u001b[1;32m      8\u001b[0m \u001b[0;34m\u001b[0m\u001b[0m\n\u001b[1;32m      9\u001b[0m     \u001b[0mbuy_volume\u001b[0m \u001b[0;34m=\u001b[0m \u001b[0mbuy_trade\u001b[0m\u001b[0;34m[\u001b[0m\u001b[0;34m'amount'\u001b[0m\u001b[0;34m]\u001b[0m\u001b[0;34m\u001b[0m\u001b[0;34m\u001b[0m\u001b[0m\n",
      "\u001b[0;31mAssertionError\u001b[0m: "
     ]
    }
   ],
   "source": [
    "ticker = 'DOGE/BTC'\n",
    "trades = b.fetchMyTrades(ticker)\n",
    "print(trades)\n",
    "for i in range(len(trades)-1):\n",
    "    sell_trade = trades[-1-i]\n",
    "    buy_trade = trades[-2-i]\n",
    "    assert sell_trade['side'] == 'sell' and buy_trade['side'] == 'buy'\n",
    "\n",
    "    buy_volume = buy_trade['amount']\n",
    "\n",
    "    fee_pair = [ticker.split('/')[0],buy_trade['fee']['currency']]\n",
    "    fee_ticker = '/'.join(fee_pair)\n",
    "    fee_ticker_1 = '/'.join(fee_pair[::-1])\n",
    "\n",
    "    if fee_ticker in tickers:\n",
    "        fee = b.fetchTicker(fee_ticker)\n",
    "    elif fee_ticker_1 in tickers:\n",
    "        fee = b.fetchTicker(fee_ticker_1)\n",
    "\n",
    "    fee_price = fee['last']\n",
    "\n",
    "    sell_volume = buy_volume - fee_price*buy_trade['fee']['cost']\n",
    "    print(buy_volume , sell_volume)"
   ]
  },
  {
   "cell_type": "code",
   "execution_count": 382,
   "metadata": {},
   "outputs": [],
   "source": [
    "buys =  {'info': {'symbol': 'DOGEGBP', 'orderId': 201464, 'orderListId': -1, 'clientOrderId': 'x-R4BD3S82161c4186eb0818448f3800', 'transactTime': 1612986441371, 'price': '0.00000000', 'origQty': '17000.00000000', 'executedQty': '17000.00000000', 'cummulativeQuoteQty': '907.46000000', 'status': 'FILLED', 'timeInForce': 'GTC', 'type': 'MARKET', 'side': 'BUY', 'fills': [{'price': '0.05338000', 'qty': '993.20000000', 'commission': '0.00042856', 'commissionAsset': 'BNB', 'tradeId': 34080}, {'price': '0.05338000', 'qty': '16006.80000000', 'commission': '0.00690701', 'commissionAsset': 'BNB', 'tradeId': 34081}]}, 'id': '201464', 'clientOrderId': 'x-R4BD3S82161c4186eb0818448f3800', 'timestamp': 1612986441371, 'datetime': '2021-02-10T19:47:21.371Z', 'lastTradeTimestamp': None, 'symbol': 'DOGE/GBP', 'type': 'market', 'timeInForce': 'GTC', 'postOnly': False, 'side': 'buy', 'price': 0.053380000000000004, 'stopPrice': None, 'amount': 17000.0, 'cost': 907.4599999999999, 'average': 0.05338, 'filled': 17000.0, 'remaining': 0.0, 'status': 'closed', 'fee': {'cost': 0.00733557, 'currency': 'BNB'}, 'trades': [{'info': {'price': '0.05338000', 'qty': '993.20000000', 'commission': '0.00042856', 'commissionAsset': 'BNB', 'tradeId': 34080}, 'timestamp': None, 'datetime': None, 'symbol': 'DOGE/GBP', 'id': None, 'order': None, 'type': None, 'side': None, 'takerOrMaker': None, 'price': 0.05338, 'amount': 993.2, 'cost': 53.017016, 'fee': {'cost': 0.00042856, 'currency': 'BNB'}}, {'info': {'price': '0.05338000', 'qty': '16006.80000000', 'commission': '0.00690701', 'commissionAsset': 'BNB', 'tradeId': 34081}, 'timestamp': None, 'datetime': None, 'symbol': 'DOGE/GBP', 'id': None, 'order': None, 'type': None, 'side': None, 'takerOrMaker': None, 'price': 0.05338, 'amount': 16006.8, 'cost': 854.4429839999999, 'fee': {'cost': 0.00690701, 'currency': 'BNB'}}]}\n",
    "sells = {'info': {'symbol': 'DOGEGBP', 'orderId': 202131, 'orderListId': -1, 'clientOrderId': 'x-R4BD3S827fca1b949f88d053b1631e', 'transactTime': 1612986743065, 'price': '0.00000000', 'origQty': '16999.90000000', 'executedQty': '16999.90000000', 'cummulativeQuoteQty': '915.40148300', 'status': 'FILLED', 'timeInForce': 'GTC', 'type': 'MARKET', 'side': 'SELL', 'fills': [{'price': '0.05395000', 'qty': '4284.50000000', 'commission': '0.00187074', 'commissionAsset': 'BNB', 'tradeId': 34168}, {'price': '0.05392000', 'qty': '1000.00000000', 'commission': '0.00043638', 'commissionAsset': 'BNB', 'tradeId': 34169}, {'price': '0.05391000', 'qty': '226.70000000', 'commission': '0.00009891', 'commissionAsset': 'BNB', 'tradeId': 34170}, {'price': '0.05385000', 'qty': '5912.50000000', 'commission': '0.00257680', 'commissionAsset': 'BNB', 'tradeId': 34171}, {'price': '0.05376000', 'qty': '243.60000000', 'commission': '0.00010598', 'commissionAsset': 'BNB', 'tradeId': 34172}, {'price': '0.05375000', 'qty': '5332.60000000', 'commission': '0.00231975', 'commissionAsset': 'BNB', 'tradeId': 34173}]}, 'id': '202131', 'clientOrderId': 'x-R4BD3S827fca1b949f88d053b1631e', 'timestamp': 1612986743065, 'datetime': '2021-02-10T19:52:23.065Z', 'lastTradeTimestamp': None, 'symbol': 'DOGE/GBP', 'type': 'market', 'timeInForce': 'GTC', 'postOnly': False, 'side': 'sell', 'price': 0.05384746280860475, 'stopPrice': None, 'amount': 16999.9, 'cost': 915.4014830000001, 'average': 0.05384746280860476, 'filled': 16999.9, 'remaining': 0.0, 'status': 'closed', 'fee': {'cost': 0.0074085600000000015, 'currency': 'BNB'}, 'trades': [{'info': {'price': '0.05395000', 'qty': '4284.50000000', 'commission': '0.00187074', 'commissionAsset': 'BNB', 'tradeId': 34168}, 'timestamp': None, 'datetime': None, 'symbol': 'DOGE/GBP', 'id': None, 'order': None, 'type': None, 'side': None, 'takerOrMaker': None, 'price': 0.05395, 'amount': 4284.5, 'cost': 231.148775, 'fee': {'cost': 0.00187074, 'currency': 'BNB'}}, {'info': {'price': '0.05392000', 'qty': '1000.00000000', 'commission': '0.00043638', 'commissionAsset': 'BNB', 'tradeId': 34169}, 'timestamp': None, 'datetime': None, 'symbol': 'DOGE/GBP', 'id': None, 'order': None, 'type': None, 'side': None, 'takerOrMaker': None, 'price': 0.05392, 'amount': 1000.0, 'cost': 53.92, 'fee': {'cost': 0.00043638, 'currency': 'BNB'}}, {'info': {'price': '0.05391000', 'qty': '226.70000000', 'commission': '0.00009891', 'commissionAsset': 'BNB', 'tradeId': 34170}, 'timestamp': None, 'datetime': None, 'symbol': 'DOGE/GBP', 'id': None, 'order': None, 'type': None, 'side': None, 'takerOrMaker': None, 'price': 0.05391, 'amount': 226.7, 'cost': 12.221397, 'fee': {'cost': 9.891e-05, 'currency': 'BNB'}}, {'info': {'price': '0.05385000', 'qty': '5912.50000000', 'commission': '0.00257680', 'commissionAsset': 'BNB', 'tradeId': 34171}, 'timestamp': None, 'datetime': None, 'symbol': 'DOGE/GBP', 'id': None, 'order': None, 'type': None, 'side': None, 'takerOrMaker': None, 'price': 0.05385, 'amount': 5912.5, 'cost': 318.388125, 'fee': {'cost': 0.0025768, 'currency': 'BNB'}}, {'info': {'price': '0.05376000', 'qty': '243.60000000', 'commission': '0.00010598', 'commissionAsset': 'BNB', 'tradeId': 34172}, 'timestamp': None, 'datetime': None, 'symbol': 'DOGE/GBP', 'id': None, 'order': None, 'type': None, 'side': None, 'takerOrMaker': None, 'price': 0.05376, 'amount': 243.6, 'cost': 13.095936, 'fee': {'cost': 0.00010598, 'currency': 'BNB'}}, {'info': {'price': '0.05375000', 'qty': '5332.60000000', 'commission': '0.00231975', 'commissionAsset': 'BNB', 'tradeId': 34173}, 'timestamp': None, 'datetime': None, 'symbol': 'DOGE/GBP', 'id': None, 'order': None, 'type': None, 'side': None, 'takerOrMaker': None, 'price': 0.05375, 'amount': 5332.6, 'cost': 286.62725, 'fee': {'cost': 0.00231975, 'currency': 'BNB'}}]}"
   ]
  },
  {
   "cell_type": "code",
   "execution_count": 497,
   "metadata": {},
   "outputs": [],
   "source": [
    "# ticker = 'DOGE/GBP'\n",
    "# ticker = 'DOGE/BTC'\n",
    "# amount = 500\n",
    "ticker, amount = 'BTC/GBP', 0.00033"
   ]
  },
  {
   "cell_type": "code",
   "execution_count": 498,
   "metadata": {},
   "outputs": [],
   "source": [
    "# buy  = b.create_order(ticker,'market','buy',amount)"
   ]
  },
  {
   "cell_type": "code",
   "execution_count": 499,
   "metadata": {},
   "outputs": [],
   "source": [
    "buy_trade = buy\n",
    "buy_volume = buy_trade['amount']"
   ]
  },
  {
   "cell_type": "code",
   "execution_count": 500,
   "metadata": {},
   "outputs": [
    {
     "name": "stdout",
     "output_type": "stream",
     "text": [
      "0.00033\n"
     ]
    }
   ],
   "source": [
    "# To calculate the correct volume to sell\n",
    "# buy_volume = 200\n",
    "\n",
    "trades = b.fetchMyTrades(ticker,limit = 20)\n",
    "buy_id = buy_trade['info']['orderId']\n",
    "# buy_id = 48605894\n",
    "\n",
    "if buy_trade['fee']['currency'] == 'BNB':\n",
    "    sell_volume = buy_volume\n",
    "else:\n",
    "    \n",
    "    # Converting fee currency to buy currency\n",
    "    ticker_pair = ticker.split('/')\n",
    "    if ticker_pair[0] != buy_trade['fee']['currency']:\n",
    "        fee_pair = [ticker_pair[0], buy_trade['fee']['currency']]\n",
    "        fee_ticker = '/'.join(fee_pair)\n",
    "        if fee_ticker not in tickers:\n",
    "            fee_ticker = '/'.join(fee_pair[::-1])\n",
    "        fee = b.fetchTicker(fee_ticker)\n",
    "        fee_price = (fee['bid'] + fee['ask']) /2\n",
    "        \n",
    "        sell_volume = buy_volume - fee_price * buy_trade['fee']['cost']\n",
    "    \n",
    "    # When fee currency is the same as the buy currency\n",
    "    else:\n",
    "        sell_volume = buy_volume - buy_trade['fee']['cost']\n",
    "        \n",
    "print(sell_volume)"
   ]
  },
  {
   "cell_type": "code",
   "execution_count": 501,
   "metadata": {},
   "outputs": [],
   "source": [
    "# sell = b.create_order(ticker,'market','sell',0.000000001)\n",
    "\n",
    "sell_trade = sell\n",
    "sell_id = sell_trade['info']['orderId']"
   ]
  },
  {
   "cell_type": "code",
   "execution_count": 502,
   "metadata": {},
   "outputs": [
    {
     "name": "stdout",
     "output_type": "stream",
     "text": [
      "10.7217495 10.7272737\n",
      "-0.029760595245999964\n"
     ]
    }
   ],
   "source": [
    "# To print and calculate profits\n",
    "\n",
    "buy_prices, sell_prices = [], []\n",
    "trades = b.fetchMyTrades(ticker,limit = 20)\n",
    "for trade in trades[::-1]:\n",
    "    if buy_id == trade['info']['orderId']:\n",
    "        buy_prices.append({'amount':trade['amount'],'cost':trade['cost'],'fee':trade['fee']})\n",
    "    elif sell_id == trade['info']['orderId']:\n",
    "        sell_prices.append({'amount':trade['amount'],'cost':trade['cost'],'fee':trade['fee']}) # Actual return uses fills\n",
    "\n",
    "buy_fee = sum([x['fee']['cost'] for x in buy_prices])\n",
    "sell_fee = sum([x['fee']['cost'] for x in sell_prices])        \n",
    "\n",
    "# Put in some error handling\n",
    "if buy_trade['fee']['currency'] == 'BNB':\n",
    "    bnb_dollar = b.fetch_ticker('BNB/USDT')\n",
    "    bnb_price = (bnb_dollar['bid'] + bnb_dollar['ask']) / 2\n",
    "    buy_fee_dollar = buy_fee * bnb_price\n",
    "    if sell_trade['fee']['currency'] == 'BNB':\n",
    "        sell_fee_dollar = sell_fee * bnb_price\n",
    "else:\n",
    "    buy_crypto_dollar = b.fetch_ticker(buy_trade['fee']['currency']+'/USDT')\n",
    "    sell_crypto_dollar = b.fetch_ticker(sell_trade['fee']['currency']+'/USDT')\n",
    "    buy_fee_price = (buy_crypto_dollar['bid']+buy_crypto_dollar['ask'])/2\n",
    "    sell_fee_price = (sell_crypto_dollar['bid']+sell_crypto_dollar['ask'])/2\n",
    "    \n",
    "    buy_fee_dollar = buy_fee_price * buy_fee\n",
    "    sell_fee_dollar = sell_fee_price * sell_fee\n",
    "\n",
    "ticker_pair = ticker.split('/')\n",
    "ticker_info = b.fetch_ticker(ticker_pair[1]+'/'+'USDT')\n",
    "\n",
    "print(sell_trade['cost'], buy_trade['cost'])\n",
    "print((sell_trade['cost'] - buy_trade['cost'])*(ticker_info['bid'] + ticker_info['ask'])\\\n",
    "      / 2 - sell_fee_dollar - buy_fee_dollar)"
   ]
  },
  {
   "cell_type": "code",
   "execution_count": 503,
   "metadata": {},
   "outputs": [
    {
     "data": {
      "text/plain": [
       "{'symbol': 'GBP/USDT',\n",
       " 'timestamp': 1613020636056,\n",
       " 'datetime': '2021-02-11T05:17:16.056Z',\n",
       " 'high': 1.3813,\n",
       " 'low': 1.3689,\n",
       " 'bid': 1.3767,\n",
       " 'bidVolume': 49951.36,\n",
       " 'ask': 1.3768,\n",
       " 'askVolume': 2382.26,\n",
       " 'vwap': 1.37632234,\n",
       " 'open': 1.3761,\n",
       " 'close': 1.3767,\n",
       " 'last': 1.3767,\n",
       " 'previousClose': 1.3763,\n",
       " 'change': 0.0006,\n",
       " 'percentage': 0.044,\n",
       " 'average': None,\n",
       " 'baseVolume': 34519094.06,\n",
       " 'quoteVolume': 47509400.1588,\n",
       " 'info': {'symbol': 'GBPUSDT',\n",
       "  'priceChange': '0.00060000',\n",
       "  'priceChangePercent': '0.044',\n",
       "  'weightedAvgPrice': '1.37632234',\n",
       "  'prevClosePrice': '1.37630000',\n",
       "  'lastPrice': '1.37670000',\n",
       "  'lastQty': '152.74000000',\n",
       "  'bidPrice': '1.37670000',\n",
       "  'bidQty': '49951.36000000',\n",
       "  'askPrice': '1.37680000',\n",
       "  'askQty': '2382.26000000',\n",
       "  'openPrice': '1.37610000',\n",
       "  'highPrice': '1.38130000',\n",
       "  'lowPrice': '1.36890000',\n",
       "  'volume': '34519094.06000000',\n",
       "  'quoteVolume': '47509400.15880000',\n",
       "  'openTime': 1612934236056,\n",
       "  'closeTime': 1613020636056,\n",
       "  'firstId': 4300062,\n",
       "  'lastId': 4426644,\n",
       "  'count': 126583}}"
      ]
     },
     "execution_count": 503,
     "metadata": {},
     "output_type": "execute_result"
    }
   ],
   "source": [
    "ticker_info"
   ]
  },
  {
   "cell_type": "code",
   "execution_count": 504,
   "metadata": {},
   "outputs": [
    {
     "data": {
      "text/plain": [
       "(0.011077576447999999, 0.011077576447999999)"
      ]
     },
     "execution_count": 504,
     "metadata": {},
     "output_type": "execute_result"
    }
   ],
   "source": [
    "sell_fee_dollar, buy_fee_dollar"
   ]
  },
  {
   "cell_type": "code",
   "execution_count": 508,
   "metadata": {},
   "outputs": [
    {
     "data": {
      "text/plain": [
       "'BTC/GBP'"
      ]
     },
     "execution_count": 508,
     "metadata": {},
     "output_type": "execute_result"
    }
   ],
   "source": [
    "buy_trade['symbol']"
   ]
  },
  {
   "cell_type": "code",
   "execution_count": 513,
   "metadata": {},
   "outputs": [
    {
     "data": {
      "text/plain": [
       "[{'price': '32506.89000000',\n",
       "  'qty': '0.00033000',\n",
       "  'commission': '0.00008704',\n",
       "  'commissionAsset': 'BNB',\n",
       "  'tradeId': 5257017}]"
      ]
     },
     "execution_count": 513,
     "metadata": {},
     "output_type": "execute_result"
    }
   ],
   "source": [
    "buy_trade['info']['fills']"
   ]
  },
  {
   "cell_type": "code",
   "execution_count": 526,
   "metadata": {},
   "outputs": [
    {
     "name": "stdout",
     "output_type": "stream",
     "text": [
      "\n",
      "Bought 0.00033 of BTC/GBP at 32506.89 with 8.704e-05 BNB of fees on Feb 10 - 21:37:59\n",
      "\n",
      "Sold 0.00033 of BTC/GBP at 32490.149999999998 with 8.704e-05 BNB of fees on Feb 10 - 21:37:59\n"
     ]
    }
   ],
   "source": [
    "avg_price = sum([float(x['price']) * float(x['qty']) for x in buy_trade['info']['fills']])/sum([float(x['qty']) for x in buy_trade['info']['fills']])\n",
    "to_print = '\\nBought %s of %s at %s with %s %s of fees on %s' % (buy_trade['amount'], buy_trade['symbol'], avg_price, buy_trade['fee']['cost'], buy_trade['fee']['currency'], datetime.now().strftime('%b %d - %H:%M:%S'))\n",
    "\n",
    "print(to_print)\n",
    "\n",
    "avg_price = sum([float(x['price']) * float(x['qty']) for x in sell_trade['info']['fills']])/sum([float(x['qty']) for x in sell_trade['info']['fills']])\n",
    "to_print = '\\nSold %s of %s at %s with %s %s of fees on %s' % (sell_trade['amount'], sell_trade['symbol'], avg_price, sell_trade['fee']['cost'], sell_trade['fee']['currency'], datetime.now().strftime('%b %d - %H:%M:%S'))\n",
    "print(to_print)\n",
    "                                  "
   ]
  },
  {
   "cell_type": "code",
   "execution_count": 545,
   "metadata": {},
   "outputs": [],
   "source": [
    "ticker = 'DOGE/GBP'"
   ]
  },
  {
   "cell_type": "code",
   "execution_count": 548,
   "metadata": {},
   "outputs": [
    {
     "name": "stdout",
     "output_type": "stream",
     "text": [
      "binance Account has insufficient balance for requested action.\n"
     ]
    }
   ],
   "source": [
    "try:\n",
    "    b.create_order(ticker,'market','sell',300)\n",
    "except Exception as e:\n",
    "    error = e\n",
    "    print(e)"
   ]
  },
  {
   "cell_type": "code",
   "execution_count": 544,
   "metadata": {},
   "outputs": [
    {
     "name": "stdout",
     "output_type": "stream",
     "text": [
      "hi\n"
     ]
    }
   ],
   "source": [
    "if 'MIN_NOTIONAL' in str(error):\n",
    "    print('hi')"
   ]
  },
  {
   "cell_type": "code",
   "execution_count": 505,
   "metadata": {},
   "outputs": [
    {
     "data": {
      "text/plain": [
       "{'info': {'symbol': 'BTCGBP',\n",
       "  'orderId': 91381602,\n",
       "  'orderListId': -1,\n",
       "  'clientOrderId': 'x-R4BD3S82dcfce58c682198b06e2bac',\n",
       "  'transactTime': 1613020635565,\n",
       "  'price': '0.00000000',\n",
       "  'origQty': '0.00033000',\n",
       "  'executedQty': '0.00033000',\n",
       "  'cummulativeQuoteQty': '10.72727370',\n",
       "  'status': 'FILLED',\n",
       "  'timeInForce': 'GTC',\n",
       "  'type': 'MARKET',\n",
       "  'side': 'BUY',\n",
       "  'fills': [{'price': '32506.89000000',\n",
       "    'qty': '0.00033000',\n",
       "    'commission': '0.00008704',\n",
       "    'commissionAsset': 'BNB',\n",
       "    'tradeId': 5257017}]},\n",
       " 'id': '91381602',\n",
       " 'clientOrderId': 'x-R4BD3S82dcfce58c682198b06e2bac',\n",
       " 'timestamp': 1613020635565,\n",
       " 'datetime': '2021-02-11T05:17:15.565Z',\n",
       " 'lastTradeTimestamp': None,\n",
       " 'symbol': 'BTC/GBP',\n",
       " 'type': 'market',\n",
       " 'timeInForce': 'GTC',\n",
       " 'postOnly': False,\n",
       " 'side': 'buy',\n",
       " 'price': 32506.89,\n",
       " 'stopPrice': None,\n",
       " 'amount': 0.00033,\n",
       " 'cost': 10.7272737,\n",
       " 'average': 32506.89,\n",
       " 'filled': 0.00033,\n",
       " 'remaining': 0.0,\n",
       " 'status': 'closed',\n",
       " 'fee': {'cost': 8.704e-05, 'currency': 'BNB'},\n",
       " 'trades': [{'info': {'price': '32506.89000000',\n",
       "    'qty': '0.00033000',\n",
       "    'commission': '0.00008704',\n",
       "    'commissionAsset': 'BNB',\n",
       "    'tradeId': 5257017},\n",
       "   'timestamp': None,\n",
       "   'datetime': None,\n",
       "   'symbol': 'BTC/GBP',\n",
       "   'id': None,\n",
       "   'order': None,\n",
       "   'type': None,\n",
       "   'side': None,\n",
       "   'takerOrMaker': None,\n",
       "   'price': 32506.89,\n",
       "   'amount': 0.00033,\n",
       "   'cost': 10.7272737,\n",
       "   'fee': {'cost': 8.704e-05, 'currency': 'BNB'}}]}"
      ]
     },
     "execution_count": 505,
     "metadata": {},
     "output_type": "execute_result"
    }
   ],
   "source": [
    "buy_trade"
   ]
  },
  {
   "cell_type": "code",
   "execution_count": 494,
   "metadata": {},
   "outputs": [
    {
     "data": {
      "text/plain": [
       "{'info': {'symbol': 'BTCGBP',\n",
       "  'orderId': 91379781,\n",
       "  'orderListId': -1,\n",
       "  'clientOrderId': 'x-R4BD3S824a9ef46133608750313593',\n",
       "  'transactTime': 1613020488035,\n",
       "  'price': '0.00000000',\n",
       "  'origQty': '0.00033000',\n",
       "  'executedQty': '0.00033000',\n",
       "  'cummulativeQuoteQty': '10.70864095',\n",
       "  'status': 'FILLED',\n",
       "  'timeInForce': 'GTC',\n",
       "  'type': 'MARKET',\n",
       "  'side': 'SELL',\n",
       "  'fills': [{'price': '32454.14000000',\n",
       "    'qty': '0.00000500',\n",
       "    'commission': '0.00000132',\n",
       "    'commissionAsset': 'BNB',\n",
       "    'tradeId': 5256915},\n",
       "   {'price': '32450.37000000',\n",
       "    'qty': '0.00032500',\n",
       "    'commission': '0.00008619',\n",
       "    'commissionAsset': 'BNB',\n",
       "    'tradeId': 5256916}]},\n",
       " 'id': '91379781',\n",
       " 'clientOrderId': 'x-R4BD3S824a9ef46133608750313593',\n",
       " 'timestamp': 1613020488035,\n",
       " 'datetime': '2021-02-11T05:14:48.035Z',\n",
       " 'lastTradeTimestamp': None,\n",
       " 'symbol': 'BTC/GBP',\n",
       " 'type': 'market',\n",
       " 'timeInForce': 'GTC',\n",
       " 'postOnly': False,\n",
       " 'side': 'sell',\n",
       " 'price': 32450.42712121212,\n",
       " 'stopPrice': None,\n",
       " 'amount': 0.00033,\n",
       " 'cost': 10.70864095,\n",
       " 'average': 32450.42712121212,\n",
       " 'filled': 0.00033,\n",
       " 'remaining': 0.0,\n",
       " 'status': 'closed',\n",
       " 'fee': {'cost': 8.751e-05, 'currency': 'BNB'},\n",
       " 'trades': [{'info': {'price': '32454.14000000',\n",
       "    'qty': '0.00000500',\n",
       "    'commission': '0.00000132',\n",
       "    'commissionAsset': 'BNB',\n",
       "    'tradeId': 5256915},\n",
       "   'timestamp': None,\n",
       "   'datetime': None,\n",
       "   'symbol': 'BTC/GBP',\n",
       "   'id': None,\n",
       "   'order': None,\n",
       "   'type': None,\n",
       "   'side': None,\n",
       "   'takerOrMaker': None,\n",
       "   'price': 32454.14,\n",
       "   'amount': 5e-06,\n",
       "   'cost': 0.16227070000000002,\n",
       "   'fee': {'cost': 1.32e-06, 'currency': 'BNB'}},\n",
       "  {'info': {'price': '32450.37000000',\n",
       "    'qty': '0.00032500',\n",
       "    'commission': '0.00008619',\n",
       "    'commissionAsset': 'BNB',\n",
       "    'tradeId': 5256916},\n",
       "   'timestamp': None,\n",
       "   'datetime': None,\n",
       "   'symbol': 'BTC/GBP',\n",
       "   'id': None,\n",
       "   'order': None,\n",
       "   'type': None,\n",
       "   'side': None,\n",
       "   'takerOrMaker': None,\n",
       "   'price': 32450.37,\n",
       "   'amount': 0.000325,\n",
       "   'cost': 10.546370249999999,\n",
       "   'fee': {'cost': 8.619e-05, 'currency': 'BNB'}}]}"
      ]
     },
     "execution_count": 494,
     "metadata": {},
     "output_type": "execute_result"
    }
   ],
   "source": [
    "sell_trade"
   ]
  }
 ],
 "metadata": {
  "kernelspec": {
   "display_name": "venv",
   "language": "python",
   "name": "venv"
  },
  "language_info": {
   "codemirror_mode": {
    "name": "ipython",
    "version": 3
   },
   "file_extension": ".py",
   "mimetype": "text/x-python",
   "name": "python",
   "nbconvert_exporter": "python",
   "pygments_lexer": "ipython3",
   "version": "3.8.5"
  }
 },
 "nbformat": 4,
 "nbformat_minor": 4
}
